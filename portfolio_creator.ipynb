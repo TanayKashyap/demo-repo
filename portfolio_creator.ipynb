{
 "cells": [
  {
   "cell_type": "code",
   "execution_count": 1,
   "id": "5afd39d8",
   "metadata": {},
   "outputs": [],
   "source": [
    "import yfinance as yf\n",
    "import pandas as pd\n",
    "import numpy as np\n",
    "import matplotlib.pyplot as plt\n",
    "from IPython.display import display, Math, Latex\n"
   ]
  },
  {
   "cell_type": "code",
   "execution_count": 2,
   "id": "604d47e5",
   "metadata": {
    "scrolled": true
   },
   "outputs": [],
   "source": [
    "df = pd.read_csv(\"Tickers (1).csv\")"
   ]
  },
  {
   "cell_type": "code",
   "execution_count": 3,
   "id": "92f57fc5",
   "metadata": {},
   "outputs": [],
   "source": [
    "first_ticker = df.columns[0]"
   ]
  },
  {
   "cell_type": "code",
   "execution_count": 4,
   "id": "0a8c6a51",
   "metadata": {},
   "outputs": [],
   "source": [
    "df.rename(columns = {first_ticker:\"ticker\"},inplace=True)"
   ]
  },
  {
   "cell_type": "code",
   "execution_count": 5,
   "id": "4c44c171",
   "metadata": {},
   "outputs": [
    {
     "data": {
      "text/plain": [
       "str"
      ]
     },
     "execution_count": 5,
     "metadata": {},
     "output_type": "execute_result"
    }
   ],
   "source": [
    "type (first_ticker)"
   ]
  },
  {
   "cell_type": "code",
   "execution_count": 6,
   "id": "19eec5ab",
   "metadata": {},
   "outputs": [],
   "source": [
    "ab = yf.Ticker(first_ticker)\n",
    "if ab.info[\"regularMarketPrice\"] != None:\n",
    "    df = df.append({\"ticker\":first_ticker},ignore_index=True)"
   ]
  },
  {
   "cell_type": "code",
   "execution_count": 7,
   "id": "e93ac580",
   "metadata": {},
   "outputs": [
    {
     "data": {
      "text/html": [
       "<div>\n",
       "<style scoped>\n",
       "    .dataframe tbody tr th:only-of-type {\n",
       "        vertical-align: middle;\n",
       "    }\n",
       "\n",
       "    .dataframe tbody tr th {\n",
       "        vertical-align: top;\n",
       "    }\n",
       "\n",
       "    .dataframe thead th {\n",
       "        text-align: right;\n",
       "    }\n",
       "</style>\n",
       "<table border=\"1\" class=\"dataframe\">\n",
       "  <thead>\n",
       "    <tr style=\"text-align: right;\">\n",
       "      <th></th>\n",
       "      <th>ticker</th>\n",
       "    </tr>\n",
       "  </thead>\n",
       "  <tbody>\n",
       "    <tr>\n",
       "      <th>0</th>\n",
       "      <td>ABBV</td>\n",
       "    </tr>\n",
       "    <tr>\n",
       "      <th>1</th>\n",
       "      <td>ABT</td>\n",
       "    </tr>\n",
       "    <tr>\n",
       "      <th>2</th>\n",
       "      <td>ACN</td>\n",
       "    </tr>\n",
       "    <tr>\n",
       "      <th>3</th>\n",
       "      <td>AGN</td>\n",
       "    </tr>\n",
       "    <tr>\n",
       "      <th>4</th>\n",
       "      <td>AIG</td>\n",
       "    </tr>\n",
       "    <tr>\n",
       "      <th>...</th>\n",
       "      <td>...</td>\n",
       "    </tr>\n",
       "    <tr>\n",
       "      <th>57</th>\n",
       "      <td>UNH</td>\n",
       "    </tr>\n",
       "    <tr>\n",
       "      <th>58</th>\n",
       "      <td>UNP</td>\n",
       "    </tr>\n",
       "    <tr>\n",
       "      <th>59</th>\n",
       "      <td>UPS</td>\n",
       "    </tr>\n",
       "    <tr>\n",
       "      <th>60</th>\n",
       "      <td>USB</td>\n",
       "    </tr>\n",
       "    <tr>\n",
       "      <th>61</th>\n",
       "      <td>AAPL</td>\n",
       "    </tr>\n",
       "  </tbody>\n",
       "</table>\n",
       "<p>62 rows × 1 columns</p>\n",
       "</div>"
      ],
      "text/plain": [
       "   ticker\n",
       "0    ABBV\n",
       "1     ABT\n",
       "2     ACN\n",
       "3     AGN\n",
       "4     AIG\n",
       "..    ...\n",
       "57    UNH\n",
       "58    UNP\n",
       "59    UPS\n",
       "60    USB\n",
       "61   AAPL\n",
       "\n",
       "[62 rows x 1 columns]"
      ]
     },
     "execution_count": 7,
     "metadata": {},
     "output_type": "execute_result"
    }
   ],
   "source": [
    "df"
   ]
  },
  {
   "cell_type": "code",
   "execution_count": 8,
   "id": "cb3fe329",
   "metadata": {},
   "outputs": [
    {
     "name": "stdout",
     "output_type": "stream",
     "text": [
      "b\n"
     ]
    }
   ],
   "source": [
    "if yf.Ticker(\"AAPL\").history(start=\"2017-01-01\").Close.index.size == 0:\n",
    "    print(\"a\")\n",
    "else:\n",
    "    print(\"b\")"
   ]
  },
  {
   "cell_type": "code",
   "execution_count": 9,
   "id": "1946bef2",
   "metadata": {},
   "outputs": [
    {
     "name": "stdout",
     "output_type": "stream",
     "text": [
      "- AGN: No data found, symbol may be delisted\n",
      "- CELG: No data found, symbol may be delisted\n",
      "- PCLN: None\n",
      "- RTN: No data found, symbol may be delisted\n"
     ]
    }
   ],
   "source": [
    "# (np.mean(yf.Ticker(\"AGN\").history(start=start,end=end).Volume)\n",
    "start_date = \"2017-01-01\"\n",
    "dict2 = {}\n",
    "for i in df.ticker:\n",
    "    y = yf.Ticker(i)\n",
    "    inf = y.info\n",
    "    a = y.history(start=start_date)\n",
    "    if a.Close.index.size > 0:\n",
    "        dict2[i] = {\"info\":inf,\"price\":a}"
   ]
  },
  {
   "cell_type": "code",
   "execution_count": 15,
   "id": "36fb5e58",
   "metadata": {},
   "outputs": [
    {
     "data": {
      "text/plain": [
       "{'zip': '95014',\n",
       " 'sector': 'Technology',\n",
       " 'fullTimeEmployees': 147000,\n",
       " 'longBusinessSummary': 'Apple Inc. designs, manufactures, and markets smartphones, personal computers, tablets, wearables, and accessories worldwide. It also sells various related services. The company offers iPhone, a line of smartphones; Mac, a line of personal computers; iPad, a line of multi-purpose tablets; and wearables, home, and accessories comprising AirPods, Apple TV, Apple Watch, Beats products, HomePod, iPod touch, and other Apple-branded and third-party accessories. It also provides AppleCare support services; cloud services store services; and operates various platforms, including the App Store, that allow customers to discover and download applications and digital content, such as books, music, video, games, and podcasts. In addition, the company offers various services, such as Apple Arcade, a game subscription service; Apple Music, which offers users a curated listening experience with on-demand radio stations; Apple News+, a subscription news and magazine service; Apple TV+, which offers exclusive original content; Apple Card, a co-branded credit card; and Apple Pay, a cashless payment service, as well as licenses its intellectual property. The company serves consumers, and small and mid-sized businesses; and the education, enterprise, and government markets. It sells and delivers third-party applications for its products through the App Store. The company also sells its products through its retail and online stores, and direct sales force; and third-party cellular network carriers, wholesalers, retailers, and resellers. Apple Inc. was founded in 1977 and is headquartered in Cupertino, California.',\n",
       " 'city': 'Cupertino',\n",
       " 'phone': '408-996-1010',\n",
       " 'state': 'CA',\n",
       " 'country': 'United States',\n",
       " 'companyOfficers': [],\n",
       " 'website': 'http://www.apple.com',\n",
       " 'maxAge': 1,\n",
       " 'address1': 'One Apple Park Way',\n",
       " 'industry': 'Consumer Electronics',\n",
       " 'ebitdaMargins': 0.31955,\n",
       " 'profitMargins': 0.25004,\n",
       " 'grossMargins': 0.41005,\n",
       " 'operatingCashflow': 104414003200,\n",
       " 'revenueGrowth': 0.364,\n",
       " 'operatingMargins': 0.28788,\n",
       " 'ebitda': 110934999040,\n",
       " 'targetLowPrice': 132,\n",
       " 'recommendationKey': 'buy',\n",
       " 'grossProfits': 104956000000,\n",
       " 'freeCashflow': 80625876992,\n",
       " 'targetMedianPrice': 169.28,\n",
       " 'currentPrice': 150.6171,\n",
       " 'earningsGrowth': 1,\n",
       " 'currentRatio': 1.062,\n",
       " 'returnOnAssets': 0.19302,\n",
       " 'numberOfAnalystOpinions': 43,\n",
       " 'targetMeanPrice': 167.13,\n",
       " 'debtToEquity': 210.782,\n",
       " 'returnOnEquity': 1.27125,\n",
       " 'targetHighPrice': 190,\n",
       " 'totalCash': 61696000000,\n",
       " 'totalDebt': 135491002368,\n",
       " 'totalRevenue': 347155005440,\n",
       " 'totalCashPerShare': 3.732,\n",
       " 'financialCurrency': 'USD',\n",
       " 'revenuePerShare': 20.61,\n",
       " 'quickRatio': 0.887,\n",
       " 'recommendationMean': 1.9,\n",
       " 'exchange': 'NMS',\n",
       " 'shortName': 'Apple Inc.',\n",
       " 'longName': 'Apple Inc.',\n",
       " 'exchangeTimezoneName': 'America/New_York',\n",
       " 'exchangeTimezoneShortName': 'EST',\n",
       " 'isEsgPopulated': True,\n",
       " 'gmtOffSetMilliseconds': '-18000000',\n",
       " 'underlyingSymbol': None,\n",
       " 'quoteType': 'EQUITY',\n",
       " 'symbol': 'AAPL',\n",
       " 'underlyingExchangeSymbol': None,\n",
       " 'headSymbol': None,\n",
       " 'messageBoardId': 'finmb_24937',\n",
       " 'uuid': '8b10e4ae-9eeb-3684-921a-9ab27e4d87aa',\n",
       " 'market': 'us_market',\n",
       " 'annualHoldingsTurnover': None,\n",
       " 'enterpriseToRevenue': 7.171,\n",
       " 'beta3Year': None,\n",
       " 'enterpriseToEbitda': 22.441,\n",
       " '52WeekChange': None,\n",
       " 'morningStarRiskRating': None,\n",
       " 'forwardEps': 5.35,\n",
       " 'revenueQuarterlyGrowth': None,\n",
       " 'sharesOutstanding': 16687599616,\n",
       " 'fundInceptionDate': None,\n",
       " 'annualReportExpenseRatio': None,\n",
       " 'totalAssets': None,\n",
       " 'bookValue': 4.146,\n",
       " 'sharesShort': 96355309,\n",
       " 'sharesPercentSharesOut': 0.0058,\n",
       " 'fundFamily': None,\n",
       " 'lastFiscalYearEnd': 1601078400,\n",
       " 'heldPercentInstitutions': 0.59054,\n",
       " 'netIncomeToCommon': 86801997824,\n",
       " 'trailingEps': 4.449,\n",
       " 'lastDividendValue': None,\n",
       " 'SandP52WeekChange': None,\n",
       " 'priceToBook': 36.328293,\n",
       " 'heldPercentInsiders': 0.00068999996,\n",
       " 'nextFiscalYearEnd': 1664150400,\n",
       " 'yield': None,\n",
       " 'mostRecentQuarter': 1624665600,\n",
       " 'shortRatio': 1.14,\n",
       " 'sharesShortPreviousMonthDate': 1623715200,\n",
       " 'floatShares': 16513139929,\n",
       " 'beta': 1.202797,\n",
       " 'enterpriseValue': 2489513410560,\n",
       " 'priceHint': 2,\n",
       " 'threeYearAverageReturn': None,\n",
       " 'lastSplitDate': 1598832000,\n",
       " 'lastSplitFactor': '4:1',\n",
       " 'legalType': None,\n",
       " 'morningStarOverallRating': None,\n",
       " 'earningsQuarterlyGrowth': 0.932,\n",
       " 'priceToSalesTrailing12Months': 7.2401023,\n",
       " 'dateShortInterest': 1626307200,\n",
       " 'pegRatio': 1.4,\n",
       " 'ytdReturn': None,\n",
       " 'forwardPE': 28.152729,\n",
       " 'lastCapGain': None,\n",
       " 'shortPercentOfFloat': 0.0058,\n",
       " 'sharesShortPriorMonth': 108937943,\n",
       " 'category': None,\n",
       " 'fiveYearAverageReturn': None,\n",
       " 'previousClose': 151.28,\n",
       " 'regularMarketOpen': 151.41,\n",
       " 'twoHundredDayAverage': 140.72289,\n",
       " 'trailingAnnualDividendYield': 0.0054204124,\n",
       " 'payoutRatio': 0.16309999,\n",
       " 'volume24Hr': None,\n",
       " 'regularMarketDayHigh': 151.55,\n",
       " 'navPrice': None,\n",
       " 'averageDailyVolume10Day': 74813566,\n",
       " 'regularMarketPreviousClose': 151.28,\n",
       " 'fiftyDayAverage': 145.918,\n",
       " 'trailingAnnualDividendRate': 0.82,\n",
       " 'open': 151.41,\n",
       " 'averageVolume10days': 74813566,\n",
       " 'expireDate': None,\n",
       " 'algorithm': None,\n",
       " 'dividendRate': 0.88,\n",
       " 'exDividendDate': 1628208000,\n",
       " 'circulatingSupply': None,\n",
       " 'startDate': None,\n",
       " 'regularMarketDayLow': 150.16,\n",
       " 'currency': 'USD',\n",
       " 'trailingPE': 33.85415,\n",
       " 'regularMarketVolume': 42637314,\n",
       " 'lastMarket': None,\n",
       " 'maxSupply': None,\n",
       " 'openInterest': None,\n",
       " 'marketCap': 2513437720576,\n",
       " 'volumeAllCurrencies': None,\n",
       " 'strikePrice': None,\n",
       " 'averageVolume': 75978245,\n",
       " 'dayLow': 150.16,\n",
       " 'ask': 150.58,\n",
       " 'askSize': 1200,\n",
       " 'volume': 42637314,\n",
       " 'fiftyTwoWeekHigh': 157.26,\n",
       " 'fromCurrency': None,\n",
       " 'fiveYearAvgDividendYield': 1.29,\n",
       " 'fiftyTwoWeekLow': 112.59,\n",
       " 'bid': 150.57,\n",
       " 'tradeable': False,\n",
       " 'dividendYield': 0.006,\n",
       " 'bidSize': 1000,\n",
       " 'dayHigh': 151.55,\n",
       " 'regularMarketPrice': 150.6171,\n",
       " 'logo_url': 'https://logo.clearbit.com/apple.com'}"
      ]
     },
     "execution_count": 15,
     "metadata": {},
     "output_type": "execute_result"
    }
   ],
   "source": [
    "dict2[\"AAPL\"][\"info\"]"
   ]
  },
  {
   "cell_type": "code",
   "execution_count": 11,
   "id": "1b1eb4d2",
   "metadata": {},
   "outputs": [],
   "source": [
    "# start=\"2021-07-02\"\n",
    "# end=\"2021-10-22\"\n",
    "# start_date = \"2021-11-01\"\n",
    "# valid_tickers = []\n",
    "# list1=[]\n",
    "# for i in df.ticker:\n",
    "#     try:\n",
    "#         a = yf.Ticker(i)\n",
    "#         c = a.info\n",
    "#         b = np.mean(a.history(start=start,end=end).Volume)\n",
    "# #         b = a.history(start=start_date).Close.pct_change().std()\n",
    "# #         pd.isna(b) == False\n",
    "#         if  c[\"currency\"] == \"USD\" and  b > 10000:\n",
    "# #             list1.append(b)\n",
    "#             valid_tickers.append(i)\n",
    "#     except:\n",
    "#         pass"
   ]
  },
  {
   "cell_type": "code",
   "execution_count": 12,
   "id": "660f6f76",
   "metadata": {},
   "outputs": [
    {
     "ename": "NameError",
     "evalue": "name 'start' is not defined",
     "output_type": "error",
     "traceback": [
      "\u001b[1;31m---------------------------------------------------------------------------\u001b[0m",
      "\u001b[1;31mNameError\u001b[0m                                 Traceback (most recent call last)",
      "\u001b[1;32m<ipython-input-12-5b35d856e418>\u001b[0m in \u001b[0;36m<module>\u001b[1;34m\u001b[0m\n\u001b[1;32m----> 1\u001b[1;33m \u001b[0mnp\u001b[0m\u001b[1;33m.\u001b[0m\u001b[0mmean\u001b[0m\u001b[1;33m(\u001b[0m\u001b[0myf\u001b[0m\u001b[1;33m.\u001b[0m\u001b[0mTicker\u001b[0m\u001b[1;33m(\u001b[0m\u001b[1;34m\"AGN\"\u001b[0m\u001b[1;33m)\u001b[0m\u001b[1;33m.\u001b[0m\u001b[0mhistory\u001b[0m\u001b[1;33m(\u001b[0m\u001b[0mstart\u001b[0m\u001b[1;33m=\u001b[0m\u001b[0mstart\u001b[0m\u001b[1;33m,\u001b[0m\u001b[0mend\u001b[0m\u001b[1;33m=\u001b[0m\u001b[0mend\u001b[0m\u001b[1;33m)\u001b[0m\u001b[1;33m.\u001b[0m\u001b[0mVolume\u001b[0m\u001b[1;33m)\u001b[0m\u001b[1;33m\u001b[0m\u001b[1;33m\u001b[0m\u001b[0m\n\u001b[0m",
      "\u001b[1;31mNameError\u001b[0m: name 'start' is not defined"
     ]
    }
   ],
   "source": [
    "np.mean(yf.Ticker(\"AGN\").history(start=start,end=end).Volume)"
   ]
  },
  {
   "cell_type": "code",
   "execution_count": null,
   "id": "7aa55f25",
   "metadata": {
    "scrolled": true
   },
   "outputs": [],
   "source": [
    "valid_tickers"
   ]
  },
  {
   "cell_type": "code",
   "execution_count": null,
   "id": "78318a95",
   "metadata": {
    "scrolled": true
   },
   "outputs": [],
   "source": [
    "list1"
   ]
  },
  {
   "cell_type": "code",
   "execution_count": null,
   "id": "34c9878d",
   "metadata": {},
   "outputs": [],
   "source": [
    "valid_df = pd.DataFrame({\"tickers\":valid_tickers})"
   ]
  },
  {
   "cell_type": "code",
   "execution_count": null,
   "id": "3cfe1b55",
   "metadata": {},
   "outputs": [],
   "source": [
    "valid_df"
   ]
  }
 ],
 "metadata": {
  "kernelspec": {
   "display_name": "venv",
   "language": "python",
   "name": "venv"
  },
  "language_info": {
   "codemirror_mode": {
    "name": "ipython",
    "version": 3
   },
   "file_extension": ".py",
   "mimetype": "text/x-python",
   "name": "python",
   "nbconvert_exporter": "python",
   "pygments_lexer": "ipython3",
   "version": "3.8.8"
  }
 },
 "nbformat": 4,
 "nbformat_minor": 5
}
