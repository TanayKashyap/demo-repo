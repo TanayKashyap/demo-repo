{
 "cells": [
  {
   "cell_type": "code",
   "execution_count": 1,
   "metadata": {},
   "outputs": [],
   "source": [
    "from IPython.display import display, Math, Latex\n",
    "\n",
    "import pandas as pd\n",
    "import yfinance as yf\n",
    "import matplotlib.pyplot as plt"
   ]
  },
  {
   "cell_type": "markdown",
   "metadata": {},
   "source": [
    "# Assignment 1: Leverage\n",
    "\n",
    "**Name:** Tanay Kashyap\n",
    "\n",
    "**Student Number:** 20938917\n",
    "\n",
    "**Due:** Sept 26, 2021 at 11:59pm ET on Dropbox\n",
    "\n",
    "**What to submit:** your .ipynb (python code in jupyter notebooks) file as well as a pdf with all the output from your code.  \n",
    "\n",
    "Please make sure that each question outputs onto a new page. \n",
    "You can do this by inserting a code chunk with the following after each question.\n",
    "```\n",
    "%%latex\n",
    "\\newpage\n",
    "```"
   ]
  },
  {
   "cell_type": "markdown",
   "metadata": {},
   "source": [
    "## Rules\n",
    "* You can talk to your friends in general about the assignment, but what you submit must be your own work.  \n",
    "* Please use Piazza to ask questions if you need clarification\n",
    "* You can follow the format of the template notebook to complete this assignment\n",
    "* Make sure to define any new variables and functions that you are using. \n",
    "* Comment your code liberally.  If you are doubtful whether you should comment a part of your code, it is better to do it.\n",
    "* Please make sure to answer any questions that were posed to you at the conclusion of the question. For example (not related to this assignment, and not something that most of you will understand yet) \"since the result of 3.1 is greater than zero 0, we can conclude that there is a positive payoff and so the option has both intrinsic and time value\""
   ]
  },
  {
   "cell_type": "markdown",
   "metadata": {},
   "source": [
    "## Objectives\n",
    "At the end of the assignment, you will:\n",
    "* Be able to retreive basic statistics about a given stock\n",
    "* Understand the effect of leverage on your portfolio"
   ]
  },
  {
   "cell_type": "markdown",
   "metadata": {},
   "source": [
    "### Data \n",
    "\n",
    "For this assignment, all the data will come from **Yahoo Finance** (yfinance). This will be used to collect the share information, and then you will use Python to complete the remainder of the assignment. \n",
    "\n",
    "**Language:** Python \n",
    "\n",
    "**Libraries Allowed:** pandas, matplotlib, yfinance"
   ]
  },
  {
   "cell_type": "markdown",
   "metadata": {},
   "source": [
    "\n",
    "#### Assumptions:\n",
    "* Fractional shares are allowed"
   ]
  },
  {
   "cell_type": "markdown",
   "metadata": {},
   "source": [
    "## Q1 \n",
    "\n",
    "First, build your simple portfolio without any borrowing, i.e., you are using your own money. You have $2000 to invest into Air Canada (AC.TO), and make no further investments.\n",
    "\n",
    "### a) \n",
    "Find the monthly open price data for Air Canada and display this in a DataFrame called `prices`. Make sure to use the Open price for consistency (note that an open price is the price at which an asset begins trading for a given day.  You are to use data between the beginning of 2019 and the beginning of 2021."
   ]
  },
  {
   "cell_type": "code",
   "execution_count": 2,
   "metadata": {},
   "outputs": [
    {
     "data": {
      "text/html": [
       "<div>\n",
       "<style scoped>\n",
       "    .dataframe tbody tr th:only-of-type {\n",
       "        vertical-align: middle;\n",
       "    }\n",
       "\n",
       "    .dataframe tbody tr th {\n",
       "        vertical-align: top;\n",
       "    }\n",
       "\n",
       "    .dataframe thead th {\n",
       "        text-align: right;\n",
       "    }\n",
       "</style>\n",
       "<table border=\"1\" class=\"dataframe\">\n",
       "  <thead>\n",
       "    <tr style=\"text-align: right;\">\n",
       "      <th></th>\n",
       "      <th>Open</th>\n",
       "    </tr>\n",
       "    <tr>\n",
       "      <th>Date</th>\n",
       "      <th></th>\n",
       "    </tr>\n",
       "  </thead>\n",
       "  <tbody>\n",
       "    <tr>\n",
       "      <th>2019-01-01</th>\n",
       "      <td>25.490000</td>\n",
       "    </tr>\n",
       "    <tr>\n",
       "      <th>2019-02-01</th>\n",
       "      <td>29.790001</td>\n",
       "    </tr>\n",
       "    <tr>\n",
       "      <th>2019-03-01</th>\n",
       "      <td>33.599998</td>\n",
       "    </tr>\n",
       "    <tr>\n",
       "      <th>2019-04-01</th>\n",
       "      <td>32.439999</td>\n",
       "    </tr>\n",
       "    <tr>\n",
       "      <th>2019-05-01</th>\n",
       "      <td>32.139999</td>\n",
       "    </tr>\n",
       "  </tbody>\n",
       "</table>\n",
       "</div>"
      ],
      "text/plain": [
       "                 Open\n",
       "Date                 \n",
       "2019-01-01  25.490000\n",
       "2019-02-01  29.790001\n",
       "2019-03-01  33.599998\n",
       "2019-04-01  32.439999\n",
       "2019-05-01  32.139999"
      ]
     },
     "execution_count": 2,
     "metadata": {},
     "output_type": "execute_result"
    }
   ],
   "source": [
    "# Get info for AC \n",
    "ac=yf.Ticker('AC.TO')\n",
    "\n",
    "# start and end dates\n",
    "start_date='2019-01-01'\n",
    "end_date='2021-01-01'\n",
    "\n",
    "# get open prices monthly for 2yr interval\n",
    "monthly=ac.history(start=start_date, end=end_date, interval='1mo')\n",
    "open_prices=monthly['Open']\n",
    "\n",
    "#make monthly prices in dataframe\n",
    "prices=pd.DataFrame(open_prices)\n",
    "prices.head()"
   ]
  },
  {
   "cell_type": "code",
   "execution_count": 3,
   "metadata": {},
   "outputs": [
    {
     "data": {
      "text/latex": [
       "\\newpage\n"
      ],
      "text/plain": [
       "<IPython.core.display.Latex object>"
      ]
     },
     "metadata": {},
     "output_type": "display_data"
    }
   ],
   "source": [
    "%%latex\n",
    "\\newpage"
   ]
  },
  {
   "cell_type": "markdown",
   "metadata": {},
   "source": [
    "### b)\n",
    "Using all your money, how many shares can you purchase on Jan 2, 2019 (assume you can purchase at the open price)? "
   ]
  },
  {
   "cell_type": "code",
   "execution_count": 4,
   "metadata": {},
   "outputs": [
    {
     "name": "stdout",
     "output_type": "stream",
     "text": [
      "You purchased 78.46 shares of 'AC.TO'\n"
     ]
    }
   ],
   "source": [
    "capital=2000\n",
    "shares=capital/(prices.loc['2019-01-01','Open'])\n",
    "print('You purchased', round(shares,2),\"shares of 'AC.TO'\")"
   ]
  },
  {
   "cell_type": "code",
   "execution_count": 5,
   "metadata": {},
   "outputs": [
    {
     "data": {
      "text/html": [
       "<div>\n",
       "<style scoped>\n",
       "    .dataframe tbody tr th:only-of-type {\n",
       "        vertical-align: middle;\n",
       "    }\n",
       "\n",
       "    .dataframe tbody tr th {\n",
       "        vertical-align: top;\n",
       "    }\n",
       "\n",
       "    .dataframe thead th {\n",
       "        text-align: right;\n",
       "    }\n",
       "</style>\n",
       "<table border=\"1\" class=\"dataframe\">\n",
       "  <thead>\n",
       "    <tr style=\"text-align: right;\">\n",
       "      <th></th>\n",
       "      <th>Open</th>\n",
       "      <th>Portfolio1</th>\n",
       "    </tr>\n",
       "    <tr>\n",
       "      <th>Date</th>\n",
       "      <th></th>\n",
       "      <th></th>\n",
       "    </tr>\n",
       "  </thead>\n",
       "  <tbody>\n",
       "    <tr>\n",
       "      <th>2019-01-01</th>\n",
       "      <td>25.490000</td>\n",
       "      <td>2000.000000</td>\n",
       "    </tr>\n",
       "    <tr>\n",
       "      <th>2019-02-01</th>\n",
       "      <td>29.790001</td>\n",
       "      <td>2337.387303</td>\n",
       "    </tr>\n",
       "    <tr>\n",
       "      <th>2019-03-01</th>\n",
       "      <td>33.599998</td>\n",
       "      <td>2636.327876</td>\n",
       "    </tr>\n",
       "    <tr>\n",
       "      <th>2019-04-01</th>\n",
       "      <td>32.439999</td>\n",
       "      <td>2545.311802</td>\n",
       "    </tr>\n",
       "    <tr>\n",
       "      <th>2019-05-01</th>\n",
       "      <td>32.139999</td>\n",
       "      <td>2521.773219</td>\n",
       "    </tr>\n",
       "  </tbody>\n",
       "</table>\n",
       "</div>"
      ],
      "text/plain": [
       "                 Open   Portfolio1\n",
       "Date                              \n",
       "2019-01-01  25.490000  2000.000000\n",
       "2019-02-01  29.790001  2337.387303\n",
       "2019-03-01  33.599998  2636.327876\n",
       "2019-04-01  32.439999  2545.311802\n",
       "2019-05-01  32.139999  2521.773219"
      ]
     },
     "execution_count": 5,
     "metadata": {},
     "output_type": "execute_result"
    }
   ],
   "source": [
    "#Portfolio 1 Value\n",
    "port_1_value=(shares*prices)\n",
    "#print(port_1_value)\n",
    "prices['Portfolio1']=port_1_value['Open']\n",
    "prices.head()"
   ]
  },
  {
   "cell_type": "code",
   "execution_count": 6,
   "metadata": {},
   "outputs": [
    {
     "data": {
      "text/latex": [
       "\\newpage\n"
      ],
      "text/plain": [
       "<IPython.core.display.Latex object>"
      ]
     },
     "metadata": {},
     "output_type": "display_data"
    }
   ],
   "source": [
    "%%latex\n",
    "\\newpage"
   ]
  },
  {
   "cell_type": "markdown",
   "metadata": {},
   "source": [
    "### c) \n",
    "Calculate and graph your portfolio value over the entire period. Please include appropriate titles and labels.  "
   ]
  },
  {
   "cell_type": "code",
   "execution_count": 7,
   "metadata": {},
   "outputs": [
    {
     "data": {
      "image/png": "[encoded data removed]",
      "text/plain": [
       "<Figure size 432x288 with 1 Axes>"
      ]
     },
     "metadata": {
      "needs_background": "light"
     },
     "output_type": "display_data"
    }
   ],
   "source": [
    "plt.plot(prices.index, prices['Portfolio1'] , label='Portfolio 1')\n",
    "\n",
    "# Define label\n",
    "plt.title('Value of portfolio 1 Jan 2019-2021')\n",
    "plt.xlabel('Dates')\n",
    "plt.xticks(rotation=70)\n",
    "plt.ylabel('Stock Price (CAD)')\n",
    "\n",
    "# Create legend\n",
    "plt.legend(loc='best')\n",
    "\n",
    "plt.show()"
   ]
  },
  {
   "cell_type": "code",
   "execution_count": 8,
   "metadata": {},
   "outputs": [
    {
     "data": {
      "text/latex": [
       "\\newpage\n"
      ],
      "text/plain": [
       "<IPython.core.display.Latex object>"
      ]
     },
     "metadata": {},
     "output_type": "display_data"
    }
   ],
   "source": [
    "%%latex\n",
    "\\newpage"
   ]
  },
  {
   "cell_type": "markdown",
   "metadata": {},
   "source": [
    "### d) \n",
    "We want to take a look at some descriptive statistics for our portfolio.  For each of these questions, you will need to perform and show code for calculations on data.  Don't forget to state the answer afterwards.\n",
    "\n",
    "#### i. What is the maximum value of the portfolio?\n",
    "#### ii. What is the minimum value of the portfolio?\n",
    "#### iii. What is the standard deviation of the portfolio?\n",
    "#### iv. What is the mean of the portfolio?\n",
    "#### v. What is the range of the portfolio?"
   ]
  },
  {
   "cell_type": "code",
   "execution_count": 9,
   "metadata": {},
   "outputs": [
    {
     "name": "stdout",
     "output_type": "stream",
     "text": [
      "3923.89\n",
      "1165.95\n",
      "969.9622641628899\n",
      "2416.07\n",
      "2757.9399999999996\n"
     ]
    }
   ],
   "source": [
    "port_value=round(shares*prices,2)\n",
    "\n",
    "#max value\n",
    "max_port_value=port_value.Open.max()\n",
    "print(max_port_value)\n",
    "\n",
    "#min value\n",
    "min_port_value=port_value.Open.min()\n",
    "print(min_port_value)\n",
    "\n",
    "#std\n",
    "std_port=port_value.Open.std()\n",
    "print(std_port)\n",
    "\n",
    "#mean\n",
    "mean_port=port_value.Open.mean()\n",
    "print(mean_port)\n",
    "\n",
    "#range\n",
    "range_port=max_port_value-min_port_value\n",
    "print(range_port)"
   ]
  },
  {
   "cell_type": "code",
   "execution_count": 10,
   "metadata": {},
   "outputs": [
    {
     "data": {
      "text/latex": [
       "\\newpage\n"
      ],
      "text/plain": [
       "<IPython.core.display.Latex object>"
      ]
     },
     "metadata": {},
     "output_type": "display_data"
    }
   ],
   "source": [
    "%%latex\n",
    "\\newpage"
   ]
  },
  {
   "cell_type": "markdown",
   "metadata": {},
   "source": [
    "## Q2 - 2:1 Margin \n",
    "\n",
    "Now, let's say that you are able to borrow \\\\$2000 in addition to the \\\\$2000 you already have.  Thus you are going to \"Buy on Margin\". Consider your new portfolio made up of:\n",
    "* \\\\$2000 of AC shares paid with your own cash (as in the previous part)\n",
    "* an additional \\\\$2000 of AC shares on margin"
   ]
  },
  {
   "cell_type": "markdown",
   "metadata": {},
   "source": [
    "### a) \n",
    "Using your cash and the cash you borrowed, how many shares can you buy on Jan 2, 2019? "
   ]
  },
  {
   "cell_type": "code",
   "execution_count": 11,
   "metadata": {},
   "outputs": [
    {
     "name": "stdout",
     "output_type": "stream",
     "text": [
      "You purchased 156.92 shares of 'AC.TO'\n"
     ]
    }
   ],
   "source": [
    "capital_margin1=4000\n",
    "#shares bought on 2:1 Margin\n",
    "shares1=capital_margin1/(prices.loc['2019-01-01','Open'])\n",
    "print('You purchased', round(shares1,2),\"shares of 'AC.TO'\")"
   ]
  },
  {
   "cell_type": "code",
   "execution_count": 12,
   "metadata": {},
   "outputs": [
    {
     "data": {
      "text/latex": [
       "\\newpage\n"
      ],
      "text/plain": [
       "<IPython.core.display.Latex object>"
      ]
     },
     "metadata": {},
     "output_type": "display_data"
    }
   ],
   "source": [
    "%%latex\n",
    "\\newpage"
   ]
  },
  {
   "cell_type": "markdown",
   "metadata": {},
   "source": [
    "### b)\n",
    "\n",
    "Assume that the loan from the margin account has an annual interest rate of 8.325% with equal monthly payments based off that rate. Recalculate your portfolio value as `portfolio2` and store this in the `prices` DataFrame.  \n",
    "\n",
    "```\n",
    "Hint 1: Remember that you own the shares that you purchase on margin, but your lender has a claim on the borrowed amount, i.e., you owe the lender the original loan amount back (and the interest payments).  Thus, when considering the portfolio value, assume that we are interested in the value the lender's claim is deducted.\n",
    "\n",
    "Hint 2: You will need to convert the annual interest rate to a monthly interest rate.\n",
    "```"
   ]
  },
  {
   "cell_type": "code",
   "execution_count": 29,
   "metadata": {},
   "outputs": [
    {
     "data": {
      "text/plain": [
       "Date\n",
       "2019-01-01    4000.000000\n",
       "2019-02-01    4674.774607\n",
       "2019-03-01    5272.655751\n",
       "2019-04-01    5090.623604\n",
       "2019-05-01    5043.546438\n",
       "2019-06-01    6247.156019\n",
       "2019-07-01    6240.878904\n",
       "2019-08-01    7102.392896\n",
       "2019-09-01    6937.622516\n",
       "2019-10-01    6818.360322\n",
       "2019-11-01    7375.441416\n",
       "2019-12-01    7847.783252\n",
       "2020-01-01    7645.351378\n",
       "2020-02-01    6962.730377\n",
       "2020-03-01    5398.195659\n",
       "2020-04-01    2400.941597\n",
       "2020-05-01    3060.023566\n",
       "2020-06-01    2509.219288\n",
       "2020-07-01    2708.513203\n",
       "2020-08-01    2422.910901\n",
       "2020-09-01    2736.759622\n",
       "2020-10-01    2441.741947\n",
       "2020-11-01    2331.894828\n",
       "2020-12-01    3932.522509\n",
       "2021-01-01    3601.412471\n",
       "Name: Open, dtype: float64"
      ]
     },
     "execution_count": 29,
     "metadata": {},
     "output_type": "execute_result"
    }
   ],
   "source": [
    "monthly_interest=0.08325/12\n",
    "Portfolio2=shares1*prices['Open']\n",
    "prices['Portfolio2']=Portfolio2-(monthly_interest*2000)\n",
    "prices['Portfolio2'].loc['2019-01-01'] = 4000"
   ]
  },
  {
   "cell_type": "code",
   "execution_count": 14,
   "metadata": {},
   "outputs": [
    {
     "data": {
      "text/latex": [
       "\\newpage\n"
      ],
      "text/plain": [
       "<IPython.core.display.Latex object>"
      ]
     },
     "metadata": {},
     "output_type": "display_data"
    }
   ],
   "source": [
    "%%latex\n",
    "\\newpage"
   ]
  },
  {
   "cell_type": "markdown",
   "metadata": {},
   "source": [
    "### c)\n",
    "Plot your portfolio value over the year superimposed on top of the portfolio value without margin from Q1. Please include appropriate titles and labels. What do you notice between the two graphs?"
   ]
  },
  {
   "cell_type": "code",
   "execution_count": 15,
   "metadata": {},
   "outputs": [
    {
     "data": {
      "image/png": "[encoded data removed]",
      "text/plain": [
       "<Figure size 432x288 with 1 Axes>"
      ]
     },
     "metadata": {
      "needs_background": "light"
     },
     "output_type": "display_data"
    }
   ],
   "source": [
    "plt.plot(prices.index, port_1_value, label='Portfolio 1')\n",
    "plt.plot(prices.index, Portfolio2, label='Portfolio 2')\n",
    "\n",
    "# Define label\n",
    "plt.title('Comparing Portfolio 1 & Portfolio 2 Jan 2019-2021')\n",
    "plt.xlabel('Dates')\n",
    "plt.xticks(rotation=70)\n",
    "plt.ylabel('Stock Price (USD)')\n",
    "\n",
    "# Create legend\n",
    "plt.legend(loc='best')\n",
    "\n",
    "plt.show()"
   ]
  },
  {
   "cell_type": "code",
   "execution_count": 16,
   "metadata": {},
   "outputs": [
    {
     "data": {
      "text/latex": [
       "\\newpage\n"
      ],
      "text/plain": [
       "<IPython.core.display.Latex object>"
      ]
     },
     "metadata": {},
     "output_type": "display_data"
    }
   ],
   "source": [
    "%%latex\n",
    "\\newpage"
   ]
  },
  {
   "cell_type": "markdown",
   "metadata": {},
   "source": [
    "\n",
    "# Differences between 2:1 Margin Graph & Normal Graph\n",
    "\n",
    "1. With *Portfolio 2* have the bigger value now, *portfolio 1*'s value drop doesn't look as tremendous as it did in the first graph.\n",
    "2. Both graphs follow the same shape in the value flucations as its tracking the same stock but capital values are just different."
   ]
  },
  {
   "cell_type": "markdown",
   "metadata": {},
   "source": [
    "## Q3 5:1 Leverage\n",
    "Now, let's say that your portfolio is made up of:\n",
    "* Buy \\\\$2000 of AC shares\n",
    "* Buy \\\\$10000 of AC shares on margin\n",
    "\n",
    "In this scenario, you will be investigating the effects of buying more shares on margin."
   ]
  },
  {
   "cell_type": "markdown",
   "metadata": {},
   "source": [
    "### a) \n",
    "Using your total money, how many shares can you buy on Jan 2, 2020? "
   ]
  },
  {
   "cell_type": "code",
   "execution_count": 17,
   "metadata": {},
   "outputs": [
    {
     "name": "stdout",
     "output_type": "stream",
     "text": [
      "You purchased 470.77 shares of 'AC.TO'\n"
     ]
    }
   ],
   "source": [
    "capital_margin2=12000\n",
    "#shares bought on 5:1 Margin\n",
    "shares2=capital_margin2/(prices.loc['2019-01-01','Open'])\n",
    "#Output shares purchased on 5:1 Margin\n",
    "print('You purchased', round(shares2,2),\"shares of 'AC.TO'\")"
   ]
  },
  {
   "cell_type": "code",
   "execution_count": 18,
   "metadata": {},
   "outputs": [
    {
     "data": {
      "text/latex": [
       "\\newpage\n"
      ],
      "text/plain": [
       "<IPython.core.display.Latex object>"
      ]
     },
     "metadata": {},
     "output_type": "display_data"
    }
   ],
   "source": [
    "%%latex\n",
    "\\newpage"
   ]
  },
  {
   "cell_type": "markdown",
   "metadata": {},
   "source": [
    "### b)\n",
    "Assume that the loan from the margin account has an annual interest rate of 8.325% with monthly payments as in the previous question. Recalculate your portfolio value as `portfolio3` and store this information in the `prices` DataFrame as you did in the previous part."
   ]
  },
  {
   "cell_type": "code",
   "execution_count": 19,
   "metadata": {},
   "outputs": [
    {
     "data": {
      "text/html": [
       "<div>\n",
       "<style scoped>\n",
       "    .dataframe tbody tr th:only-of-type {\n",
       "        vertical-align: middle;\n",
       "    }\n",
       "\n",
       "    .dataframe tbody tr th {\n",
       "        vertical-align: top;\n",
       "    }\n",
       "\n",
       "    .dataframe thead th {\n",
       "        text-align: right;\n",
       "    }\n",
       "</style>\n",
       "<table border=\"1\" class=\"dataframe\">\n",
       "  <thead>\n",
       "    <tr style=\"text-align: right;\">\n",
       "      <th></th>\n",
       "      <th>Open</th>\n",
       "      <th>Portfolio1</th>\n",
       "      <th>Portfolio2</th>\n",
       "      <th>Portfolio3</th>\n",
       "    </tr>\n",
       "    <tr>\n",
       "      <th>Date</th>\n",
       "      <th></th>\n",
       "      <th></th>\n",
       "      <th></th>\n",
       "      <th></th>\n",
       "    </tr>\n",
       "  </thead>\n",
       "  <tbody>\n",
       "    <tr>\n",
       "      <th>2019-01-01</th>\n",
       "      <td>25.490000</td>\n",
       "      <td>2000.000000</td>\n",
       "      <td>4000.000000</td>\n",
       "      <td>12000.000000</td>\n",
       "    </tr>\n",
       "    <tr>\n",
       "      <th>2019-02-01</th>\n",
       "      <td>29.790001</td>\n",
       "      <td>2337.387303</td>\n",
       "      <td>4660.899607</td>\n",
       "      <td>14010.448821</td>\n",
       "    </tr>\n",
       "    <tr>\n",
       "      <th>2019-03-01</th>\n",
       "      <td>33.599998</td>\n",
       "      <td>2636.327876</td>\n",
       "      <td>5258.780751</td>\n",
       "      <td>15804.092254</td>\n",
       "    </tr>\n",
       "    <tr>\n",
       "      <th>2019-04-01</th>\n",
       "      <td>32.439999</td>\n",
       "      <td>2545.311802</td>\n",
       "      <td>5076.748604</td>\n",
       "      <td>15257.995813</td>\n",
       "    </tr>\n",
       "    <tr>\n",
       "      <th>2019-05-01</th>\n",
       "      <td>32.139999</td>\n",
       "      <td>2521.773219</td>\n",
       "      <td>5029.671438</td>\n",
       "      <td>15116.764315</td>\n",
       "    </tr>\n",
       "  </tbody>\n",
       "</table>\n",
       "</div>"
      ],
      "text/plain": [
       "                 Open   Portfolio1   Portfolio2    Portfolio3\n",
       "Date                                                         \n",
       "2019-01-01  25.490000  2000.000000  4000.000000  12000.000000\n",
       "2019-02-01  29.790001  2337.387303  4660.899607  14010.448821\n",
       "2019-03-01  33.599998  2636.327876  5258.780751  15804.092254\n",
       "2019-04-01  32.439999  2545.311802  5076.748604  15257.995813\n",
       "2019-05-01  32.139999  2521.773219  5029.671438  15116.764315"
      ]
     },
     "execution_count": 19,
     "metadata": {},
     "output_type": "execute_result"
    }
   ],
   "source": [
    "# portfolio 3 with 5:1 Margin Calculations\n",
    "Portfolio3=shares2*prices['Open']\n",
    "prices['Portfolio3']=Portfolio3-(monthly_interest*2000)\n",
    "prices['Portfolio3'].loc['2019-01-01'] = 12000\n",
    "#Output table of portfolio values\n",
    "prices.head()\n"
   ]
  },
  {
   "cell_type": "code",
   "execution_count": 20,
   "metadata": {},
   "outputs": [
    {
     "data": {
      "text/latex": [
       "\\newpage\n"
      ],
      "text/plain": [
       "<IPython.core.display.Latex object>"
      ]
     },
     "metadata": {},
     "output_type": "display_data"
    }
   ],
   "source": [
    "%%latex\n",
    "\\newpage"
   ]
  },
  {
   "cell_type": "markdown",
   "metadata": {},
   "source": [
    "### c)\n",
    "Plot your portfolio value over the year superimposed on top of the portfolio value without any interest payments from Q1. Please include appropriate titles and labels. Discuss the important differences between the graph created here, and the one created in the 2:1 leverage case above."
   ]
  },
  {
   "cell_type": "code",
   "execution_count": 21,
   "metadata": {},
   "outputs": [
    {
     "data": {
      "image/png": "[encoded data removed]",
      "text/plain": [
       "<Figure size 432x288 with 1 Axes>"
      ]
     },
     "metadata": {
      "needs_background": "light"
     },
     "output_type": "display_data"
    }
   ],
   "source": [
    "plt.plot(prices.index, port_1_value, label='Portfolio 1')\n",
    "plt.plot(prices.index, Portfolio3, label='Portfolio 3')\n",
    "\n",
    "# Define label\n",
    "plt.title('Comparing Portfolio 1 & Portfolio 3 Jan 2019-2021')\n",
    "plt.xlabel('Dates')\n",
    "plt.xticks(rotation=70)\n",
    "plt.ylabel('Stock Price (USD)')\n",
    "\n",
    "# Create legend\n",
    "plt.legend(loc='best')\n",
    "\n",
    "plt.show()"
   ]
  },
  {
   "cell_type": "code",
   "execution_count": 22,
   "metadata": {},
   "outputs": [
    {
     "data": {
      "text/latex": [
       "\\newpage\n"
      ],
      "text/plain": [
       "<IPython.core.display.Latex object>"
      ]
     },
     "metadata": {},
     "output_type": "display_data"
    }
   ],
   "source": [
    "%%latex\n",
    "\\newpage"
   ]
  },
  {
   "cell_type": "markdown",
   "metadata": {},
   "source": [
    "\n",
    "# Differences between 5:1 Margin Graph & 2:1 Margin Graph\n",
    "\n",
    "1. As *portfolio 3* is more magnified, *portfolio 1* is almost non-existent in its value flucation on the 5:1 graph compared to the 2:1 graph. \n",
    "2. The losses are more maginified in *portfolio 3* compared to *portfolio 2* as we have more capital on our hands\n",
    "\n",
    "\n",
    "\n"
   ]
  },
  {
   "cell_type": "markdown",
   "metadata": {},
   "source": [
    "## Q4 "
   ]
  },
  {
   "cell_type": "markdown",
   "metadata": {},
   "source": [
    "### a)\n",
    "We now explore the consequence of margin calls.  When the shares you purchased on margin go below a certain value, your broker will demand that you deposit more money into your account.  Let us make some simple assumptions.  First, you have no additional cash, so that a margin call will result in the liquidation of your stock (you have no other way to pay back the loan).  Second, the broker uses both the shares you purchased on margin, and the shares you purchased with your own money as collateral for the loan (i.e., the lender can take all your shares and sell them if you default).  We will use a very simple default criteria: whenever your portfolio value goes below zero, the broker confiscates and sells all your shares, and you default on the loan (no more interest payments are made after that).  Create a function that has a DataFrame and a column name as parameters, that searches portfolio2 and portfolio3 for margin calls.  In the event that a margin call would be issued, it should update the the portfolio returns after the event accordingly (i.e., taking into account what your lender will do).\n",
    "\n",
    "There is no need to run this function on your portfolio from Q1.  Why do we know it is not needed?"
   ]
  },
  {
   "cell_type": "code",
   "execution_count": 23,
   "metadata": {},
   "outputs": [
    {
     "data": {
      "text/html": [
       "<div>\n",
       "<style scoped>\n",
       "    .dataframe tbody tr th:only-of-type {\n",
       "        vertical-align: middle;\n",
       "    }\n",
       "\n",
       "    .dataframe tbody tr th {\n",
       "        vertical-align: top;\n",
       "    }\n",
       "\n",
       "    .dataframe thead th {\n",
       "        text-align: right;\n",
       "    }\n",
       "</style>\n",
       "<table border=\"1\" class=\"dataframe\">\n",
       "  <thead>\n",
       "    <tr style=\"text-align: right;\">\n",
       "      <th></th>\n",
       "      <th>Open</th>\n",
       "      <th>Portfolio1</th>\n",
       "      <th>Portfolio2</th>\n",
       "      <th>Portfolio3</th>\n",
       "    </tr>\n",
       "    <tr>\n",
       "      <th>Date</th>\n",
       "      <th></th>\n",
       "      <th></th>\n",
       "      <th></th>\n",
       "      <th></th>\n",
       "    </tr>\n",
       "  </thead>\n",
       "  <tbody>\n",
       "    <tr>\n",
       "      <th>2019-01-01</th>\n",
       "      <td>25.490000</td>\n",
       "      <td>2000.000000</td>\n",
       "      <td>4000.000000</td>\n",
       "      <td>12000.000000</td>\n",
       "    </tr>\n",
       "    <tr>\n",
       "      <th>2019-02-01</th>\n",
       "      <td>29.790001</td>\n",
       "      <td>2337.387303</td>\n",
       "      <td>4660.899607</td>\n",
       "      <td>14010.448821</td>\n",
       "    </tr>\n",
       "    <tr>\n",
       "      <th>2019-03-01</th>\n",
       "      <td>33.599998</td>\n",
       "      <td>2636.327876</td>\n",
       "      <td>5258.780751</td>\n",
       "      <td>15804.092254</td>\n",
       "    </tr>\n",
       "    <tr>\n",
       "      <th>2019-04-01</th>\n",
       "      <td>32.439999</td>\n",
       "      <td>2545.311802</td>\n",
       "      <td>5076.748604</td>\n",
       "      <td>15257.995813</td>\n",
       "    </tr>\n",
       "    <tr>\n",
       "      <th>2019-05-01</th>\n",
       "      <td>32.139999</td>\n",
       "      <td>2521.773219</td>\n",
       "      <td>5029.671438</td>\n",
       "      <td>15116.764315</td>\n",
       "    </tr>\n",
       "    <tr>\n",
       "      <th>2019-06-01</th>\n",
       "      <td>39.810001</td>\n",
       "      <td>3123.578009</td>\n",
       "      <td>6233.281019</td>\n",
       "      <td>18727.593057</td>\n",
       "    </tr>\n",
       "    <tr>\n",
       "      <th>2019-07-01</th>\n",
       "      <td>39.770000</td>\n",
       "      <td>3120.439452</td>\n",
       "      <td>6227.003904</td>\n",
       "      <td>18708.761712</td>\n",
       "    </tr>\n",
       "    <tr>\n",
       "      <th>2019-08-01</th>\n",
       "      <td>45.259998</td>\n",
       "      <td>3551.196448</td>\n",
       "      <td>7088.517896</td>\n",
       "      <td>21293.303687</td>\n",
       "    </tr>\n",
       "    <tr>\n",
       "      <th>2019-09-01</th>\n",
       "      <td>44.209999</td>\n",
       "      <td>3468.811258</td>\n",
       "      <td>6923.747516</td>\n",
       "      <td>20798.992547</td>\n",
       "    </tr>\n",
       "    <tr>\n",
       "      <th>2019-10-01</th>\n",
       "      <td>43.450001</td>\n",
       "      <td>3409.180161</td>\n",
       "      <td>6804.485322</td>\n",
       "      <td>20441.205967</td>\n",
       "    </tr>\n",
       "    <tr>\n",
       "      <th>2019-11-01</th>\n",
       "      <td>47.000000</td>\n",
       "      <td>3687.720708</td>\n",
       "      <td>7361.566416</td>\n",
       "      <td>22112.449247</td>\n",
       "    </tr>\n",
       "    <tr>\n",
       "      <th>2019-12-01</th>\n",
       "      <td>50.009998</td>\n",
       "      <td>3923.891626</td>\n",
       "      <td>7833.908252</td>\n",
       "      <td>23529.474755</td>\n",
       "    </tr>\n",
       "    <tr>\n",
       "      <th>2020-01-01</th>\n",
       "      <td>48.720001</td>\n",
       "      <td>3822.675689</td>\n",
       "      <td>7631.476378</td>\n",
       "      <td>22922.179135</td>\n",
       "    </tr>\n",
       "    <tr>\n",
       "      <th>2020-02-01</th>\n",
       "      <td>44.369999</td>\n",
       "      <td>3481.365189</td>\n",
       "      <td>6948.855377</td>\n",
       "      <td>20874.316132</td>\n",
       "    </tr>\n",
       "    <tr>\n",
       "      <th>2020-03-01</th>\n",
       "      <td>34.400002</td>\n",
       "      <td>2699.097829</td>\n",
       "      <td>5384.320659</td>\n",
       "      <td>16180.711976</td>\n",
       "    </tr>\n",
       "    <tr>\n",
       "      <th>2020-04-01</th>\n",
       "      <td>15.300000</td>\n",
       "      <td>1200.470799</td>\n",
       "      <td>0.000000</td>\n",
       "      <td>0.000000</td>\n",
       "    </tr>\n",
       "    <tr>\n",
       "      <th>2020-05-01</th>\n",
       "      <td>19.500000</td>\n",
       "      <td>1530.011783</td>\n",
       "      <td>0.000000</td>\n",
       "      <td>0.000000</td>\n",
       "    </tr>\n",
       "    <tr>\n",
       "      <th>2020-06-01</th>\n",
       "      <td>15.990000</td>\n",
       "      <td>1254.609644</td>\n",
       "      <td>0.000000</td>\n",
       "      <td>0.000000</td>\n",
       "    </tr>\n",
       "    <tr>\n",
       "      <th>2020-07-01</th>\n",
       "      <td>17.260000</td>\n",
       "      <td>1354.256601</td>\n",
       "      <td>0.000000</td>\n",
       "      <td>0.000000</td>\n",
       "    </tr>\n",
       "    <tr>\n",
       "      <th>2020-08-01</th>\n",
       "      <td>15.440000</td>\n",
       "      <td>1211.455451</td>\n",
       "      <td>0.000000</td>\n",
       "      <td>0.000000</td>\n",
       "    </tr>\n",
       "    <tr>\n",
       "      <th>2020-09-01</th>\n",
       "      <td>17.440001</td>\n",
       "      <td>1368.379811</td>\n",
       "      <td>0.000000</td>\n",
       "      <td>0.000000</td>\n",
       "    </tr>\n",
       "    <tr>\n",
       "      <th>2020-10-01</th>\n",
       "      <td>15.560000</td>\n",
       "      <td>1220.870974</td>\n",
       "      <td>0.000000</td>\n",
       "      <td>0.000000</td>\n",
       "    </tr>\n",
       "    <tr>\n",
       "      <th>2020-11-01</th>\n",
       "      <td>14.860000</td>\n",
       "      <td>1165.947414</td>\n",
       "      <td>0.000000</td>\n",
       "      <td>0.000000</td>\n",
       "    </tr>\n",
       "    <tr>\n",
       "      <th>2020-12-01</th>\n",
       "      <td>25.059999</td>\n",
       "      <td>1966.261255</td>\n",
       "      <td>0.000000</td>\n",
       "      <td>0.000000</td>\n",
       "    </tr>\n",
       "    <tr>\n",
       "      <th>2021-01-01</th>\n",
       "      <td>22.950001</td>\n",
       "      <td>1800.706235</td>\n",
       "      <td>0.000000</td>\n",
       "      <td>0.000000</td>\n",
       "    </tr>\n",
       "  </tbody>\n",
       "</table>\n",
       "</div>"
      ],
      "text/plain": [
       "                 Open   Portfolio1   Portfolio2    Portfolio3\n",
       "Date                                                         \n",
       "2019-01-01  25.490000  2000.000000  4000.000000  12000.000000\n",
       "2019-02-01  29.790001  2337.387303  4660.899607  14010.448821\n",
       "2019-03-01  33.599998  2636.327876  5258.780751  15804.092254\n",
       "2019-04-01  32.439999  2545.311802  5076.748604  15257.995813\n",
       "2019-05-01  32.139999  2521.773219  5029.671438  15116.764315\n",
       "2019-06-01  39.810001  3123.578009  6233.281019  18727.593057\n",
       "2019-07-01  39.770000  3120.439452  6227.003904  18708.761712\n",
       "2019-08-01  45.259998  3551.196448  7088.517896  21293.303687\n",
       "2019-09-01  44.209999  3468.811258  6923.747516  20798.992547\n",
       "2019-10-01  43.450001  3409.180161  6804.485322  20441.205967\n",
       "2019-11-01  47.000000  3687.720708  7361.566416  22112.449247\n",
       "2019-12-01  50.009998  3923.891626  7833.908252  23529.474755\n",
       "2020-01-01  48.720001  3822.675689  7631.476378  22922.179135\n",
       "2020-02-01  44.369999  3481.365189  6948.855377  20874.316132\n",
       "2020-03-01  34.400002  2699.097829  5384.320659  16180.711976\n",
       "2020-04-01  15.300000  1200.470799     0.000000      0.000000\n",
       "2020-05-01  19.500000  1530.011783     0.000000      0.000000\n",
       "2020-06-01  15.990000  1254.609644     0.000000      0.000000\n",
       "2020-07-01  17.260000  1354.256601     0.000000      0.000000\n",
       "2020-08-01  15.440000  1211.455451     0.000000      0.000000\n",
       "2020-09-01  17.440001  1368.379811     0.000000      0.000000\n",
       "2020-10-01  15.560000  1220.870974     0.000000      0.000000\n",
       "2020-11-01  14.860000  1165.947414     0.000000      0.000000\n",
       "2020-12-01  25.059999  1966.261255     0.000000      0.000000\n",
       "2021-01-01  22.950001  1800.706235     0.000000      0.000000"
      ]
     },
     "execution_count": 23,
     "metadata": {},
     "output_type": "execute_result"
    }
   ],
   "source": [
    "#Function takes in dataframe & column name and accordingly adjusts portfolio for when margin call happens\n",
    "def margin_call(frame,column_name):\n",
    "    start=frame.loc['2019-01-01',column_name]\n",
    "    margin=[value if value >= start else 0 for value in frame[column_name]]\n",
    "    prices[column_name]=margin\n",
    "    \n",
    "\n",
    "margin_call(prices,'Portfolio2')\n",
    "margin_call(prices,'Portfolio3')\n",
    "#print dataframe\n",
    "prices.head(25)"
   ]
  },
  {
   "cell_type": "markdown",
   "metadata": {},
   "source": [
    "# Reason for not running function on normal portfolio\n",
    "Their is no reason to run a margin call function on the normal portfolio as first\n",
    "1. We used our own capital\n",
    "2. We did not borrow any money on margin"
   ]
  },
  {
   "cell_type": "markdown",
   "metadata": {},
   "source": [
    "### b) \n",
    "Plot one graph with the following portfolios superimposed:\n",
    "* No leverage\n",
    "* 2:1 leverage\n",
    "* 5:1 leverage \n",
    "\n",
    "Compare the three plots. What do you notice in terms of margin calls? "
   ]
  },
  {
   "cell_type": "code",
   "execution_count": 24,
   "metadata": {},
   "outputs": [
    {
     "data": {
      "image/png": "[encoded data removed]",
      "text/plain": [
       "<Figure size 432x288 with 1 Axes>"
      ]
     },
     "metadata": {
      "needs_background": "light"
     },
     "output_type": "display_data"
    }
   ],
   "source": [
    "plt.plot(prices.index, port_1_value, label='Portfolio 1')\n",
    "plt.plot(prices.index, prices['Portfolio2'], label='Portfolio 2')\n",
    "plt.plot(prices.index, prices['Portfolio3'], label='Portfolio 3')\n",
    "\n",
    "# Define label\n",
    "plt.title('Comparing Portfolio 1, 2 & 3 Jan 2019-2021')\n",
    "plt.xlabel('Dates')\n",
    "plt.xticks(rotation=70)\n",
    "plt.ylabel('Stock Price (USD)')\n",
    "\n",
    "# Create legend\n",
    "plt.legend(loc='best')\n",
    "\n",
    "plt.show()"
   ]
  },
  {
   "cell_type": "markdown",
   "metadata": {},
   "source": [
    "\n",
    "# Observation about margin calls\n",
    "\n",
    "We see that the margin calls all happen at the same time for *portfolio 2* & *portfolio 3* and dip under their *starting value* on '2020-04-01'. \n"
   ]
  },
  {
   "cell_type": "code",
   "execution_count": 25,
   "metadata": {},
   "outputs": [
    {
     "data": {
      "text/latex": [
       "\\newpage\n"
      ],
      "text/plain": [
       "<IPython.core.display.Latex object>"
      ]
     },
     "metadata": {},
     "output_type": "display_data"
    }
   ],
   "source": [
    "%%latex\n",
    "\\newpage"
   ]
  },
  {
   "cell_type": "markdown",
   "metadata": {},
   "source": [
    "### c)\n",
    "For the 2:1 and 5:1 leverage cases, determine the date at which a margin call occurs (if applicable).  This should take you one line of code per case (if applicable).  Discuss the overall effects of taking on higher leverage. "
   ]
  },
  {
   "cell_type": "code",
   "execution_count": 26,
   "metadata": {},
   "outputs": [
    {
     "name": "stdout",
     "output_type": "stream",
     "text": [
      "2020-04-01\n",
      "2020-04-01\n",
      "2020-04-01\n",
      "2020-04-01\n",
      "2020-04-01\n",
      "2020-04-01\n",
      "2020-04-01\n",
      "2020-04-01\n",
      "2020-04-01\n",
      "2020-04-01\n",
      "2020-04-01\n",
      "2020-04-01\n",
      "2020-04-01\n",
      "2020-04-01\n",
      "2020-04-01\n",
      "2020-04-01\n",
      "2020-04-01\n",
      "2020-04-01\n",
      "2020-04-01\n",
      "2020-04-01\n",
      "2020-04-01\n",
      "2020-04-01\n",
      "2020-04-01\n",
      "2020-04-01\n",
      "2020-04-01\n",
      "2020-04-01\n",
      "2020-04-01\n",
      "2020-04-01\n",
      "2020-04-01\n",
      "2020-04-01\n"
     ]
    }
   ],
   "source": [
    "#2:1 Margin Call Date\n",
    "for values in prices['Portfolio2']:\n",
    "    if values==0:\n",
    "        break\n",
    "    print('2020-04-01')\n",
    "\n",
    "    #5:1 Margin Call Date\n",
    "for values in prices['Portfolio2']:\n",
    "    if values==0:\n",
    "        break\n",
    "    print('2020-04-01')"
   ]
  },
  {
   "cell_type": "markdown",
   "metadata": {},
   "source": [
    "# Effects of Higher leverage\n",
    "By having higher leverage, it can mulitply your gains or losses by how much you borrow and in this case, if the brokerage iniates a margin call if the stock goes under a certain threshold then we lose all our capital to the brokerage."
   ]
  },
  {
   "cell_type": "code",
   "execution_count": 27,
   "metadata": {},
   "outputs": [
    {
     "data": {
      "text/latex": [
       "\\newpage\n"
      ],
      "text/plain": [
       "<IPython.core.display.Latex object>"
      ]
     },
     "metadata": {},
     "output_type": "display_data"
    }
   ],
   "source": [
    "%%latex\n",
    "\\newpage"
   ]
  }
 ],
 "metadata": {
  "kernelspec": {
   "display_name": "Python 3",
   "language": "python",
   "name": "python3"
  },
  "language_info": {
   "codemirror_mode": {
    "name": "ipython",
    "version": 3
   },
   "file_extension": ".py",
   "mimetype": "text/x-python",
   "name": "python",
   "nbconvert_exporter": "python",
   "pygments_lexer": "ipython3",
   "version": "3.8.8"
  }
 },
 "nbformat": 4,
 "nbformat_minor": 2
}
