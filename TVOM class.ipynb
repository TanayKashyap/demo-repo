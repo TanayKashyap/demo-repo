{
 "cells": [
  {
   "cell_type": "code",
   "execution_count": 2,
   "id": "1a722404",
   "metadata": {
    "scrolled": false
   },
   "outputs": [],
   "source": [
    "from IPython.display import display, Math, Latex\n",
    "\n",
    "import pandas as pd\n",
    "import numpy as np\n",
    "import numpy_financial as npf\n",
    "import matplotlib.pyplot as plt"
   ]
  },
  {
   "cell_type": "markdown",
   "id": "36256fc5",
   "metadata": {},
   "source": [
    "# PV Example (from slides)\n",
    "\n",
    "$C_0=0$, $C_1=100$, $C_2=100$, $r=5\\%$.\n",
    "\n",
    "\\begin{align*}\n",
    "PV&= \\frac{100}{1+r} +\\frac{100}{(1+r)^2}\\\\\n",
    "&= \\frac{100}{1.05} +\\frac{100}{(1.05)^2}\n",
    "\\end{align*}"
   ]
  },
  {
   "cell_type": "code",
   "execution_count": 3,
   "id": "fc7e65ec",
   "metadata": {
    "scrolled": false
   },
   "outputs": [
    {
     "name": "stdout",
     "output_type": "stream",
     "text": [
      "Net present value of the investment: 185.94\n"
     ]
    }
   ],
   "source": [
    "cashflows       = [0, 100, 100]; #C_0, C_1, C_2\n",
    "discountRate    = .05; #r\n",
    "npv             = npf.npv(discountRate, cashflows);  \n",
    "\n",
    "print(\"Net present value of the investment:\", round(npv,2));\n"
   ]
  },
  {
   "cell_type": "markdown",
   "id": "2d8c5f5f",
   "metadata": {},
   "source": [
    "# Future Value Example\n",
    "\n",
    "If you had \\$10,000 in an investment account and the account was paying 10\\% interest per year – how much would you have in the account in 7 years? In 20 years? In 75 years?\n",
    "\n",
    "7 years:\t$10,000 \\times (1.10)^7 = 19,487.17$\n",
    "\n",
    "20 years:\t$10,000 \\times (1.10)^{20} = 67,275.00$\n",
    "\n",
    "75 years:\t$10,000 \\times (1.10)^{75} = 12,718,953.71$\n",
    "\n"
   ]
  },
  {
   "cell_type": "code",
   "execution_count": 4,
   "id": "b3618352",
   "metadata": {
    "scrolled": true
   },
   "outputs": [
    {
     "name": "stdout",
     "output_type": "stream",
     "text": [
      "Future value of the investment: $-19487.17\n"
     ]
    }
   ],
   "source": [
    "#The above can be solved using the the numpy-financial's fv function\n",
    "\n",
    "Startingcash = -10000 #fv function treats these as cash OUTflows\n",
    "discountRate= .1\n",
    "numyears=7;\n",
    "fv= npf.fv(discountRate,numyears, 0, Startingcash); # zero refers to no future cash inflows after the intial 10k.\n",
    "print(\"Future value of the investment: $\", round(fv,2), sep='');\n"
   ]
  },
  {
   "cell_type": "markdown",
   "id": "cbe5b9d5",
   "metadata": {},
   "source": [
    "# Present Value with Multiple Cash Flows\n",
    "\n",
    "You require money to buy a car. You can take out a loan from a friend who could otherwise invest the money at an interest rate = 6\\%.\n",
    "\n",
    "The terms of the loan are such that you will pay back \\\\$5000 in year 1 and then \\$8000 in the following 3 years (years 2 – 4).  \n",
    "\n",
    "How much can you borrow from your friend?\n",
    "\n",
    "Answer: You can borrow the PV of the payments you will make to your friend.\n",
    "\n",
    "\\begin{align*}\n",
    "PV=\\frac{5000}{1.06}+\\frac{8000}{(1.06)^2}+\\frac{8000}{(1.06)^3}+  \\frac{8000}{1.06^4}\n",
    "\\end{align*}"
   ]
  },
  {
   "cell_type": "code",
   "execution_count": 5,
   "id": "7d902741",
   "metadata": {},
   "outputs": [
    {
     "name": "stdout",
     "output_type": "stream",
     "text": [
      "Therefore, you can borrow from your friend: $24890.66\n"
     ]
    }
   ],
   "source": [
    "#Let's do the above with the npv function\n",
    "\n",
    "discountRate=.06\n",
    "cashflows=[0,5000,8000,8000,8000]\n",
    "npv= npf.npv(discountRate, cashflows);  \n",
    "\n",
    "print(\"Therefore, you can borrow from your friend: $\", round(npv,2), sep='');"
   ]
  },
  {
   "cell_type": "markdown",
   "id": "680bf675",
   "metadata": {},
   "source": [
    "# Do Long-Dated Cash Flows Matter?\n",
    "\n",
    "Imagine you will receive \\$1,000,000 in 200 years, how much is that worth today if the discount rate is 8\\%?"
   ]
  },
  {
   "cell_type": "code",
   "execution_count": 6,
   "id": "3db9154b",
   "metadata": {},
   "outputs": [
    {
     "name": "stdout",
     "output_type": "stream",
     "text": [
      "Net present value of the investment: $0.21\n"
     ]
    }
   ],
   "source": [
    "#PV cash flows at different times\n",
    "\n",
    "periods=200 #This will be how many years until the non-zero cash flow\n",
    "cashflows = [0]*(periods+1) #creates a list of zeros\n",
    "cashflows[periods]=1000000\n",
    "discountRate    = .08 \n",
    "npv             = npf.npv(discountRate, cashflows);  \n",
    "\n",
    "print(\"Net present value of the investment: $\", round(npv,2), sep='');"
   ]
  },
  {
   "cell_type": "markdown",
   "id": "b6fbafa8",
   "metadata": {},
   "source": [
    "# Payback Length example\n",
    "\n",
    "You have just taken out a loan for \\\\$10,000  You will pay \\$200 per month towards the loan. The interest rate charged is 6\\% annual, paid monthly (simple interest, you can simply divide by 12).  How long will it take you to pay off if the loan?\n",
    "\n",
    "\\begin{align*}\n",
    "10000=\\frac{200}{1.005}+\\frac{200}{(1.005)^2}+\\frac{200}{(1.005)^3}+...+\\frac{200}{(1.005)^n}\n",
    "\\end{align*}\n",
    "\n",
    "We need to solve for n"
   ]
  },
  {
   "cell_type": "code",
   "execution_count": 10,
   "id": "5fe8b9cd",
   "metadata": {},
   "outputs": [
    {
     "name": "stdout",
     "output_type": "stream",
     "text": [
      "The number of months until the loan is paid off it: 7.43\n"
     ]
    }
   ],
   "source": [
    "#This can be done easily with the nper function in numpy-financial\n",
    "monthly_rate=.06/12\n",
    "payments=-200\n",
    "loan_amount=10000\n",
    "\n",
    "n=np.round(npf.nper(monthly_rate,payments,loan_amount),2)\n",
    "print(\"The number of months until the loan is paid off it:\", n)"
   ]
  },
  {
   "cell_type": "markdown",
   "id": "41f372eb",
   "metadata": {},
   "source": [
    "# Unknown Discount rates\n",
    "\n",
    "Consider the following cash flows, which have a PV of 7500.\n",
    "\n",
    "$7500 = +\\frac{3,000}{1+r} + \\frac{2,000}{(1+r)^2}\t + \\frac{1,500}{(1+r)^3} + \\frac{1,750}{(1+r)^4} + \\frac{2,500}{(1+r)^5}$\n",
    "\n",
    "We often rearrange this into what we call the Net Present Value (NPV).  We refere to the 7500 as the cost, so that when it is brought to the right hand side, you are considering the value of the investment, NET of your costs.\n",
    "\n",
    "$NPV = -7500 +\\frac{3,000}{1+r} + \\frac{2,000}{(1+r)^2}\t + \\frac{1,500}{(1+r)^3} + \\frac{1,750}{(1+r)^4} + \\frac{2,500}{(1+r)^5}$\n",
    "\n",
    "There are multiple instances in finance where it is useful to know that rate $r$ at which the NPV is zero.  In bond pricing, this is refereed to as the yield.  In project evaluation, it is referred to as the internal rate of return, or IRR.\n"
   ]
  },
  {
   "cell_type": "code",
   "execution_count": 8,
   "id": "8c591d3e",
   "metadata": {},
   "outputs": [
    {
     "name": "stdout",
     "output_type": "stream",
     "text": [
      "The rate is 14.1%\n"
     ]
    }
   ],
   "source": [
    "#easily solved with the irr function in numpy-financial\n",
    "rate=npf.irr([-7500,3000,2000,1500,1750,2500])\n",
    "print(\"The rate is \", np.round(rate*100,2),\"%\", sep='')"
   ]
  },
  {
   "cell_type": "markdown",
   "id": "1baeebc3",
   "metadata": {},
   "source": [
    "# Back to Preferred shares\n",
    "\n",
    "Recall that we said in class that they were actually priced as perpetuties (where we said that $P=\\frac{D}{r}$).\n",
    "\n",
    "\\begin{align*}\n",
    "P &= \\frac{D}{1+r} + \\frac{D}{(1+r)^2}\t + \\frac{D}{(1+r)^3} + \\frac{D}{(1+r)^4} +...\\\\\n",
    "  &= \\sum_{n=1}^{\\infty} \\frac{D}{(1+r)^n}\\\\\n",
    "  &= \\frac{D}{r}\n",
    "\\end{align*}"
   ]
  },
  {
   "cell_type": "code",
   "execution_count": 24,
   "id": "24939956",
   "metadata": {},
   "outputs": [
    {
     "name": "stdout",
     "output_type": "stream",
     "text": [
      "Net present value of the investment: $62.46931485187062\n",
      "D/r: $62.5\n"
     ]
    }
   ],
   "source": [
    "periods=100 #This will be how many years until the non-zero cash flow\n",
    "D=5\n",
    "cashflows = [D]*(periods) #creates a list with every element D.\n",
    "cashflows[0]=0 #First cash flow starts in one period.\n",
    "discountRate    = .08 \n",
    "npv             = npf.npv(discountRate, cashflows);  \n",
    "\n",
    "print(\"Net present value of the investment: $\",npv, sep='');\n",
    "print(\"D/r: $\", D/discountRate,sep='');"
   ]
  },
  {
   "cell_type": "markdown",
   "id": "40bdc4ed",
   "metadata": {},
   "source": [
    "Prove it mathmatically?  Go ahead, be a winner."
   ]
  },
  {
   "cell_type": "code",
   "execution_count": null,
   "id": "3226a6bd",
   "metadata": {},
   "outputs": [],
   "source": []
  }
 ],
 "metadata": {
  "kernelspec": {
   "display_name": "Python 3",
   "language": "python",
   "name": "python3"
  },
  "language_info": {
   "codemirror_mode": {
    "name": "ipython",
    "version": 3
   },
   "file_extension": ".py",
   "mimetype": "text/x-python",
   "name": "python",
   "nbconvert_exporter": "python",
   "pygments_lexer": "ipython3",
   "version": "3.8.8"
  }
 },
 "nbformat": 4,
 "nbformat_minor": 5
}
