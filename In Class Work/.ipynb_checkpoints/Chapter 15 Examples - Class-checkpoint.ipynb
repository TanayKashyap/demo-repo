{
 "cells": [
  {
   "cell_type": "code",
   "execution_count": 1,
   "id": "4178f03d",
   "metadata": {
    "scrolled": false
   },
   "outputs": [],
   "source": [
    "from IPython.display import display, Math, Latex\n",
    "\n",
    "import pandas as pd\n",
    "import numpy as np\n",
    "import numpy_financial as npf\n",
    "import yfinance as yf\n",
    "import matplotlib.pyplot as plt"
   ]
  },
  {
   "cell_type": "markdown",
   "id": "abcb13b7",
   "metadata": {},
   "source": [
    "# Total Return Examples\n",
    "\n",
    "Example 1: You bought TD bank for $\\$72.50$ and sold one year later for $\\$78.45$.  During that year, $2.75 of dividends were paid.  What is the total \\% return?\n",
    "\n",
    "Example 2: A 6\\% $\\$1000$ face value bond was bought for $\\$95.50$ and sold after one year for $\\$98.65$. Assume that coupons are paid annually.  What is the total \\% return?\n",
    "\n"
   ]
  },
  {
   "cell_type": "code",
   "execution_count": 2,
   "id": "4534172e",
   "metadata": {},
   "outputs": [
    {
     "name": "stdout",
     "output_type": "stream",
     "text": [
      "The Total Return is: 12.0%\n"
     ]
    }
   ],
   "source": [
    "Cash_Flow=2.75\n",
    "Begin_Value=72.50\n",
    "End_Value=78.45\n",
    "\n",
    "Total_Return=100*(Cash_Flow + (End_Value-Begin_Value))/Begin_Value\n",
    "print(\"The Total Return is: \", round(Total_Return,2),\"%\", sep='')"
   ]
  },
  {
   "cell_type": "markdown",
   "id": "2c375e3f",
   "metadata": {},
   "source": [
    "## Percentage Returns, Expected Returns and Correlations\n"
   ]
  },
  {
   "cell_type": "code",
   "execution_count": 3,
   "id": "c9f00ae2",
   "metadata": {},
   "outputs": [
    {
     "ename": "SyntaxError",
     "evalue": "invalid syntax (<ipython-input-3-1b969c83fa74>, line 18)",
     "output_type": "error",
     "traceback": [
      "\u001b[1;36m  File \u001b[1;32m\"<ipython-input-3-1b969c83fa74>\"\u001b[1;36m, line \u001b[1;32m18\u001b[0m\n\u001b[1;33m    daily_returns =\u001b[0m\n\u001b[1;37m                    ^\u001b[0m\n\u001b[1;31mSyntaxError\u001b[0m\u001b[1;31m:\u001b[0m invalid syntax\n"
     ]
    }
   ],
   "source": [
    "Stock1='NFLX'\n",
    "Stock2='FB'\n",
    "Ticker1 = yf.Ticker(Stock1)\n",
    "Ticker2 = yf.Ticker(Stock2)\n",
    "\n",
    "start_date = '2018-01-01'\n",
    "end_date = '2021-10-25'\n",
    "\n",
    "Stock1_hist = Ticker1.history(start=start_date, end=end_date)\n",
    "Stock2_hist = Ticker2.history(start=start_date, end=end_date)\n",
    "\n",
    "prices = pd.DataFrame(Stock1_hist['Close'])\n",
    "prices.columns = [Stock1]\n",
    "prices[Stock2] = Stock2_hist['Close']\n",
    "#prices.head()\n",
    "\n",
    "#Calculate the daily returns from the price dataFrame\n",
    "daily_returns = \n",
    "\n",
    "#Easiest to drop the first entry since it doesn't exist (why doesn't it exist?).\n",
    "#Hint: Look-up at DataFrame.drop()\n",
    "\n",
    "#daily_returns.head()\n",
    "\n",
    "#Calculate the monthly returns from the price dataFrame.  On assignment #3 I had you do this the \n",
    "#painful way, you can use that code, or look-up DataFrame.resample('M').  Note that to do this\n",
    "#you will need to handle the missing first row - .ffill will be useful.\n",
    "monthly_returns=\n",
    "\n",
    "#Now drop the first entry similar to above\n",
    "\n",
    "monthly_returns.head()"
   ]
  },
  {
   "cell_type": "code",
   "execution_count": null,
   "id": "a21a0ab2",
   "metadata": {},
   "outputs": [],
   "source": [
    "plt.figure(figsize=(20,15))\n",
    "\n",
    "plt.plot(monthly_returns.index,monthly_returns[Stock1], color='b', label=Stock1)\n",
    "plt.plot(monthly_returns.index,monthly_returns[Stock2], color='r', label=Stock2)\n",
    "plt.legend(loc='best')\n",
    "plt.title('Monthly Returns')\n",
    "plt.xlabel('Date')\n",
    "plt.ylabel('Percent Change (%)')\n",
    "\n",
    "plt.show()"
   ]
  },
  {
   "cell_type": "markdown",
   "id": "47456881",
   "metadata": {},
   "source": [
    "### Expected returns\n",
    "\n",
    "\\begin{align*}\n",
    "E(X)=\\overline{X}=\\frac{\\sum x_i}{N}\n",
    "\\end{align*}\n",
    "\n",
    "where $x_i$ are individual returns of some security $X$, $N$ is the total number of observations (time periods for us)\n",
    "\n",
    "### Variance\n",
    "\n",
    "\\begin{align*}\n",
    "\\sigma^2_X=\\frac{\\sum(x_i-\\overline{X})^2}{N}\n",
    "\\end{align*}\n",
    "\n",
    "### Standard Deviation\n",
    "\n",
    "\\begin{align*}\n",
    "\\sigma_X=\\sqrt{\\frac{\\sum(x_i-\\overline{X})}{N}}\n",
    "\\end{align*}\n",
    "\n",
    "### Covariance\n",
    "\n",
    "Let's consider the relationship between two securities $X$ and $Y$.\n",
    "\n",
    "\\begin{align*}\n",
    "COV(X,Y)=\\frac{\\sum(x_i-\\overline{X})\\times(y_i-\\overline{Y})}{N}\n",
    "\\end{align*}\n",
    "\n",
    "### Correlation\n",
    "\n",
    "Very similar to Covariance, except standardized so that it takes a value between $-1$ and $1$\n",
    "\n",
    "\\begin{align*}\n",
    "COR(X,Y)=\\frac{COV(X,Y)}{\\sigma_X \\times \\sigma_Y}\n",
    "\\end{align*}\n"
   ]
  },
  {
   "cell_type": "code",
   "execution_count": null,
   "id": "ed0d5754",
   "metadata": {},
   "outputs": [],
   "source": [
    "print('Expected Monthly Returns:')\n",
    "print(INSERT CALCULATION)\n",
    "\n",
    "print('')\n",
    "\n",
    "print('Standard Deviations')\n",
    "print(INSERT CALCULATION)\n",
    "\n",
    "print('')\n",
    "\n",
    "print(INSERT CALCULATION)"
   ]
  },
  {
   "cell_type": "markdown",
   "id": "fcff23d8",
   "metadata": {},
   "source": [
    "## Beta\n",
    "\n",
    "Consider Security $X$ with returns given by $x_i$, and let the correponding market returns be $r_M$.  Beta is then given by:\n",
    "\n",
    "\\begin{align*}\n",
    "\\beta=\\frac{COV(x_i,r_M)}{\\sigma^2(r_M)}\n",
    "\\end{align*}"
   ]
  },
  {
   "cell_type": "code",
   "execution_count": null,
   "id": "aead5fa4",
   "metadata": {},
   "outputs": [],
   "source": [
    "Stock1='NFLX'\n",
    "MarketIndex='^GSPC' #This is the symbol yfinance uses for the S&P 500\n",
    "Ticker1 = yf.Ticker(Stock1)\n",
    "Ticker2 = yf.Ticker(MarketIndex)\n",
    "\n",
    "start_date = '2018-01-01'\n",
    "end_date = '2021-10-25'\n",
    "\n",
    "Stock1_hist = Ticker1.history(start=start_date, end=end_date)\n",
    "MarketIndex_hist = Ticker2.history(start=start_date, end=end_date)\n"
   ]
  },
  {
   "cell_type": "code",
   "execution_count": null,
   "id": "6f66219d",
   "metadata": {},
   "outputs": [],
   "source": [
    "prices = pd.DataFrame(Stock1_hist['Close'])\n",
    "prices.columns = [Stock1]\n",
    "prices[MarketIndex] = MarketIndex_hist['Close']\n",
    "#prices.head()\n",
    "\n",
    "#Do the same as before to get the monthly returns and then drop the first entry.\n",
    "\n",
    "monthly_returns=\n",
    "\n",
    "\n",
    "monthly_returns.head()"
   ]
  },
  {
   "cell_type": "code",
   "execution_count": null,
   "id": "617f12d8",
   "metadata": {},
   "outputs": [],
   "source": [
    "#calculate the market variance (you will need to reference the column correponding to the market)\n",
    "MarketVar=\n",
    "\n",
    "#calculate beta by taking a covariance (.cov()), and using MarketrVar that was just defined.\n",
    "Beta=\n",
    "\n",
    "print(Beta)\n",
    "\n",
    "print('')\n",
    "print('Cell [0,0] is meaningless (to get beta, we divided by the variance of the market!)')\n",
    "print('')\n",
    "\n",
    "print('The Beta of Netflix is: ', Beta.iat[0,1])\n",
    "print('The Beta of the Market is: ', Beta.iat[1,1])\n"
   ]
  }
 ],
 "metadata": {
  "kernelspec": {
   "display_name": "Python 3",
   "language": "python",
   "name": "python3"
  },
  "language_info": {
   "codemirror_mode": {
    "name": "ipython",
    "version": 3
   },
   "file_extension": ".py",
   "mimetype": "text/x-python",
   "name": "python",
   "nbconvert_exporter": "python",
   "pygments_lexer": "ipython3",
   "version": "3.7.4"
  }
 },
 "nbformat": 4,
 "nbformat_minor": 5
}
