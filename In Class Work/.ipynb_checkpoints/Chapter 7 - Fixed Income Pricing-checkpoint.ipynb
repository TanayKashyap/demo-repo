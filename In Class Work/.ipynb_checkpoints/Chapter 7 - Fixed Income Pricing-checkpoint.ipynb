{
 "cells": [
  {
   "cell_type": "code",
   "execution_count": 8,
   "id": "710dc841",
   "metadata": {
    "scrolled": false
   },
   "outputs": [],
   "source": [
    "from IPython.display import display, Math, Latex\n",
    "\n",
    "import pandas as pd\n",
    "import numpy as np\n",
    "import numpy_financial as npf\n",
    "import matplotlib.pyplot as plt"
   ]
  },
  {
   "cell_type": "markdown",
   "id": "3f8d9c84",
   "metadata": {},
   "source": [
    "# Example 1 (Page 67 in Text)\n",
    "\n",
    "\\begin{align*}\n",
    "PV&= \\frac{60}{1+r} +\\frac{60}{(1+r)^2} +\\frac{60}{(1+r)^3} +\\frac{60}{(1+r)^4}+ \\frac{60}{(1+r)^5} + \\frac{60}{(1+r)^6} + \\frac{60}{(1+r)^7} + \\frac{60+1000}{(1+r)^8}\\\\\n",
    "&= \\frac{60}{1.05} +\\frac{60}{(1.05)^2} +\\frac{60}{(1.05)^3} +\\frac{60}{(1.05)^4}+ \\frac{60}{(1.05)^5} + \\frac{60}{(1.05)^6} + \\frac{60}{(1.05)^7} + \\frac{60+1000}{(1.05)^8}\\\\\n",
    "&= 60 \\times \\left[\\frac{1-\\frac{1}{(1.05)^8}}{.05}\\right] + 1000 \\times \\frac{1}{(1.05)^8}\n",
    "\\end{align*}\n",
    "\n",
    "\n",
    "The last line is using the formula in the text on Page 67.  How can you derive that formula?  Hint: you can get the PV of a finite set of cashflows by considering two perperuities (at different points in time).  Remember that perpetuties are easy to value and have a really nice formula. Come prepared to derive the bond pricing formula and you'll win the day, and get top participation points for this week."
   ]
  },
  {
   "cell_type": "code",
   "execution_count": 9,
   "id": "e87ac887",
   "metadata": {},
   "outputs": [
    {
     "name": "stdout",
     "output_type": "stream",
     "text": [
      "The price of bond is : $1064.6321275942626\n"
     ]
    }
   ],
   "source": [
    "principal = 1000\n",
    "interest_rate = 0.05\n",
    "periods = 8\n",
    "coupon_payment = 0.06 * principal\n",
    "\n",
    "bond_price = (npf.pv(interest_rate, periods, coupon_payment, principal)) * -1\n",
    "print(\"The price of bond is : $\" + str(bond_price))"
   ]
  },
  {
   "cell_type": "markdown",
   "id": "127d40e7",
   "metadata": {},
   "source": [
    "# Bond Price Versus Yield\n",
    "\n",
    "It should be easy now to see the relationship.  Go back to the previous code and change the yield (interest rate) and see what happens to the price.  Intuitively, why is this happening?"
   ]
  },
  {
   "cell_type": "markdown",
   "id": "4db124f0",
   "metadata": {},
   "source": [
    "# Bond Duration\n",
    "\n",
    "To understand the concept of Bond Duration, change the number of payment periods and look at how sensitive the bond price is to changes in interest rates.  Even better would be to write a program that changes the payment periods and sees how the price reacts to changes in interest rates.  "
   ]
  }
 ],
 "metadata": {
  "kernelspec": {
   "display_name": "Python 3",
   "language": "python",
   "name": "python3"
  },
  "language_info": {
   "codemirror_mode": {
    "name": "ipython",
    "version": 3
   },
   "file_extension": ".py",
   "mimetype": "text/x-python",
   "name": "python",
   "nbconvert_exporter": "python",
   "pygments_lexer": "ipython3",
   "version": "3.8.8"
  }
 },
 "nbformat": 4,
 "nbformat_minor": 5
}
