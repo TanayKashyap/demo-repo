{
 "cells": [
  {
   "cell_type": "markdown",
   "metadata": {},
   "source": [
    "# Introduction to Yahoo Finance\n",
    "\n",
    "Yahoo Finance is the tool that you will be using throughout the term to get financial data. We will walk through some of the basic functionality from Yahoo Finance. "
   ]
  },
  {
   "cell_type": "markdown",
   "metadata": {},
   "source": [
    "## Import Module\n",
    "\n",
    "First, we need to import the Python module that will allow us to access Yahoo Finance - `yfinance`. Recall that we had installed this module earlier in the setup portion of this tutorial."
   ]
  },
  {
   "cell_type": "code",
   "execution_count": 1,
   "metadata": {},
   "outputs": [],
   "source": [
    "# Import the library\n",
    "import yfinance as yf"
   ]
  },
  {
   "cell_type": "markdown",
   "metadata": {},
   "source": [
    "Let's find some data on Microsoft so we know that the ticker is MSFT. "
   ]
  },
  {
   "cell_type": "markdown",
   "metadata": {},
   "source": [
    "## Stock Info"
   ]
  },
  {
   "cell_type": "code",
   "execution_count": 2,
   "metadata": {},
   "outputs": [],
   "source": [
    "# Call API for MSFT data\n",
    "msft = yf.Ticker('MSFT')"
   ]
  },
  {
   "cell_type": "code",
   "execution_count": 3,
   "metadata": {},
   "outputs": [
    {
     "data": {
      "text/plain": [
       "{'zip': '98052-6399',\n",
       " 'sector': 'Technology',\n",
       " 'fullTimeEmployees': 163000,\n",
       " 'longBusinessSummary': 'Microsoft Corporation develops, licenses, and supports software, services, devices, and solutions worldwide. Its Productivity and Business Processes segment offers Office, Exchange, SharePoint, Microsoft Teams, Office 365 Security and Compliance, and Skype for Business, as well as related Client Access Licenses (CAL); Skype, Outlook.com, OneDrive, and LinkedIn; and Dynamics 365, a set of cloud-based and on-premises business solutions for small and medium businesses, organizations, and enterprise divisions. Its Intelligent Cloud segment licenses SQL and Windows Servers, Visual Studio, System Center, and related CALs; GitHub that provides a collaboration platform and code hosting service for developers; and Azure, a cloud platform. It also offers support services and Microsoft consulting services to assist customers in developing, deploying, and managing Microsoft server and desktop solutions; and training and certification to developers and IT professionals on Microsoft products. Its More Personal Computing segment provides Windows original equipment manufacturer (OEM) licensing and other non-volume licensing of the Windows operating system; Windows Commercial, such as volume licensing of the Windows operating system, Windows cloud services, and other Windows commercial offerings; patent licensing; Windows Internet of Things; and MSN advertising. It also offers Surface, PC accessories, PCs, tablets, gaming and entertainment consoles, and other devices; Gaming, including Xbox hardware, and Xbox content and services; video games and third-party video game royalties; and Search, including Bing and Microsoft advertising. It sells its products through OEMs, distributors, and resellers; and directly through digital marketplaces, online stores, and retail stores. It has a collaboration with DXC Technology, Dynatrace, Inc., Morgan Stanley, Micro Focus, WPP plc, and iCIMS, Inc. The company was founded in 1975 and is headquartered in Redmond, Washington.',\n",
       " 'city': 'Redmond',\n",
       " 'phone': '425 882 8080',\n",
       " 'state': 'WA',\n",
       " 'country': 'United States',\n",
       " 'companyOfficers': [],\n",
       " 'website': 'http://www.microsoft.com',\n",
       " 'maxAge': 1,\n",
       " 'address1': 'One Microsoft Way',\n",
       " 'industry': 'Software—Infrastructure',\n",
       " 'ebitdaMargins': 0.47245,\n",
       " 'profitMargins': 0.35016,\n",
       " 'grossMargins': 0.68381,\n",
       " 'operatingCashflow': 72703000576,\n",
       " 'revenueGrowth': 0.191,\n",
       " 'operatingMargins': 0.40150002,\n",
       " 'ebitda': 75577999360,\n",
       " 'targetLowPrice': 256.7,\n",
       " 'recommendationKey': 'buy',\n",
       " 'grossProfits': 96937000000,\n",
       " 'freeCashflow': 37776875520,\n",
       " 'targetMedianPrice': 300,\n",
       " 'currentPrice': 277.94,\n",
       " 'earningsGrowth': 0.45,\n",
       " 'currentRatio': 2.294,\n",
       " 'returnOnAssets': 0.13508001,\n",
       " 'numberOfAnalystOpinions': 33,\n",
       " 'targetMeanPrice': 298.92,\n",
       " 'debtToEquity': 60.414,\n",
       " 'returnOnEquity': 0.44991,\n",
       " 'targetHighPrice': 340,\n",
       " 'totalCash': 125013000192,\n",
       " 'totalDebt': 81260003328,\n",
       " 'totalRevenue': 159969001472,\n",
       " 'totalCashPerShare': 16.599,\n",
       " 'financialCurrency': 'USD',\n",
       " 'revenuePerShare': 21.156,\n",
       " 'quickRatio': 2.096,\n",
       " 'recommendationMean': 1.6,\n",
       " 'exchange': 'NMS',\n",
       " 'shortName': 'Microsoft Corporation',\n",
       " 'longName': 'Microsoft Corporation',\n",
       " 'exchangeTimezoneName': 'America/New_York',\n",
       " 'exchangeTimezoneShortName': 'EDT',\n",
       " 'isEsgPopulated': False,\n",
       " 'gmtOffSetMilliseconds': '-14400000',\n",
       " 'quoteType': 'EQUITY',\n",
       " 'symbol': 'MSFT',\n",
       " 'messageBoardId': 'finmb_21835',\n",
       " 'market': 'us_market',\n",
       " 'annualHoldingsTurnover': None,\n",
       " 'enterpriseToRevenue': 12.788,\n",
       " 'beta3Year': None,\n",
       " 'enterpriseToEbitda': 27.067,\n",
       " '52WeekChange': 0.34225142,\n",
       " 'morningStarRiskRating': None,\n",
       " 'forwardEps': 8.37,\n",
       " 'revenueQuarterlyGrowth': None,\n",
       " 'sharesOutstanding': 7531570176,\n",
       " 'fundInceptionDate': None,\n",
       " 'annualReportExpenseRatio': None,\n",
       " 'totalAssets': None,\n",
       " 'bookValue': 17.853,\n",
       " 'sharesShort': 48137624,\n",
       " 'sharesPercentSharesOut': 0.0064,\n",
       " 'fundFamily': None,\n",
       " 'lastFiscalYearEnd': 1593475200,\n",
       " 'heldPercentInstitutions': 0.72033,\n",
       " 'netIncomeToCommon': 56014999552,\n",
       " 'trailingEps': 7.338,\n",
       " 'lastDividendValue': 0.56,\n",
       " 'SandP52WeekChange': 0.38486385,\n",
       " 'priceToBook': 15.568252,\n",
       " 'heldPercentInsiders': 0.00071999995,\n",
       " 'nextFiscalYearEnd': 1656547200,\n",
       " 'yield': None,\n",
       " 'mostRecentQuarter': 1617148800,\n",
       " 'shortRatio': 2.24,\n",
       " 'sharesShortPreviousMonthDate': 1620950400,\n",
       " 'floatShares': 7420483826,\n",
       " 'beta': 0.787812,\n",
       " 'enterpriseValue': 2045656432640,\n",
       " 'priceHint': 2,\n",
       " 'threeYearAverageReturn': None,\n",
       " 'lastSplitDate': 1045526400,\n",
       " 'lastSplitFactor': '2:1',\n",
       " 'legalType': None,\n",
       " 'lastDividendDate': 1621382400,\n",
       " 'morningStarOverallRating': None,\n",
       " 'earningsQuarterlyGrowth': 0.438,\n",
       " 'priceToSalesTrailing12Months': 13.085814,\n",
       " 'dateShortInterest': 1623715200,\n",
       " 'pegRatio': 2.07,\n",
       " 'ytdReturn': None,\n",
       " 'forwardPE': 33.20669,\n",
       " 'lastCapGain': None,\n",
       " 'shortPercentOfFloat': 0.0064,\n",
       " 'sharesShortPriorMonth': 40526093,\n",
       " 'impliedSharesOutstanding': None,\n",
       " 'category': None,\n",
       " 'fiveYearAverageReturn': None,\n",
       " 'previousClose': 277.42,\n",
       " 'regularMarketOpen': 275.72,\n",
       " 'twoHundredDayAverage': 243.8675,\n",
       " 'trailingAnnualDividendYield': 0.007894168,\n",
       " 'payoutRatio': 0.2916,\n",
       " 'volume24Hr': None,\n",
       " 'regularMarketDayHigh': 278,\n",
       " 'navPrice': None,\n",
       " 'averageDailyVolume10Day': 24422166,\n",
       " 'regularMarketPreviousClose': 277.42,\n",
       " 'fiftyDayAverage': 261.01758,\n",
       " 'trailingAnnualDividendRate': 2.19,\n",
       " 'open': 275.72,\n",
       " 'toCurrency': None,\n",
       " 'averageVolume10days': 24422166,\n",
       " 'expireDate': None,\n",
       " 'algorithm': None,\n",
       " 'dividendRate': 2.24,\n",
       " 'exDividendDate': 1629244800,\n",
       " 'circulatingSupply': None,\n",
       " 'startDate': None,\n",
       " 'regularMarketDayLow': 275.32,\n",
       " 'currency': 'USD',\n",
       " 'trailingPE': 37.87681,\n",
       " 'regularMarketVolume': 23916665,\n",
       " 'lastMarket': None,\n",
       " 'maxSupply': None,\n",
       " 'openInterest': None,\n",
       " 'marketCap': 2093324697600,\n",
       " 'volumeAllCurrencies': None,\n",
       " 'strikePrice': None,\n",
       " 'averageVolume': 24730149,\n",
       " 'dayLow': 275.32,\n",
       " 'ask': 277.94,\n",
       " 'askSize': 800,\n",
       " 'volume': 23916665,\n",
       " 'fiftyTwoWeekHigh': 280.69,\n",
       " 'fromCurrency': None,\n",
       " 'fiveYearAvgDividendYield': 1.57,\n",
       " 'fiftyTwoWeekLow': 196.25,\n",
       " 'bid': 277.75,\n",
       " 'tradeable': False,\n",
       " 'dividendYield': 0.008,\n",
       " 'bidSize': 900,\n",
       " 'dayHigh': 278,\n",
       " 'regularMarketPrice': 277.94,\n",
       " 'logo_url': 'https://logo.clearbit.com/microsoft.com'}"
      ]
     },
     "execution_count": 3,
     "metadata": {},
     "output_type": "execute_result"
    }
   ],
   "source": [
    "# Get stock info\n",
    "msft.info"
   ]
  },
  {
   "cell_type": "code",
   "execution_count": 4,
   "metadata": {},
   "outputs": [
    {
     "data": {
      "text/plain": [
       "'Technology'"
      ]
     },
     "execution_count": 4,
     "metadata": {},
     "output_type": "execute_result"
    }
   ],
   "source": [
    "# Extract stock info\n",
    "msft.info['sector']"
   ]
  },
  {
   "cell_type": "code",
   "execution_count": 5,
   "metadata": {},
   "outputs": [
    {
     "data": {
      "text/html": [
       "<div>\n",
       "<style scoped>\n",
       "    .dataframe tbody tr th:only-of-type {\n",
       "        vertical-align: middle;\n",
       "    }\n",
       "\n",
       "    .dataframe tbody tr th {\n",
       "        vertical-align: top;\n",
       "    }\n",
       "\n",
       "    .dataframe thead th {\n",
       "        text-align: right;\n",
       "    }\n",
       "</style>\n",
       "<table border=\"1\" class=\"dataframe\">\n",
       "  <thead>\n",
       "    <tr style=\"text-align: right;\">\n",
       "      <th></th>\n",
       "      <th>0</th>\n",
       "      <th>1</th>\n",
       "    </tr>\n",
       "  </thead>\n",
       "  <tbody>\n",
       "    <tr>\n",
       "      <th>0</th>\n",
       "      <td>0.07%</td>\n",
       "      <td>% of Shares Held by All Insider</td>\n",
       "    </tr>\n",
       "    <tr>\n",
       "      <th>1</th>\n",
       "      <td>72.03%</td>\n",
       "      <td>% of Shares Held by Institutions</td>\n",
       "    </tr>\n",
       "    <tr>\n",
       "      <th>2</th>\n",
       "      <td>72.08%</td>\n",
       "      <td>% of Float Held by Institutions</td>\n",
       "    </tr>\n",
       "    <tr>\n",
       "      <th>3</th>\n",
       "      <td>5300</td>\n",
       "      <td>Number of Institutions Holding Shares</td>\n",
       "    </tr>\n",
       "  </tbody>\n",
       "</table>\n",
       "</div>"
      ],
      "text/plain": [
       "        0                                      1\n",
       "0   0.07%        % of Shares Held by All Insider\n",
       "1  72.03%       % of Shares Held by Institutions\n",
       "2  72.08%        % of Float Held by Institutions\n",
       "3    5300  Number of Institutions Holding Shares"
      ]
     },
     "execution_count": 5,
     "metadata": {},
     "output_type": "execute_result"
    }
   ],
   "source": [
    "# Show major holders\n",
    "msft.major_holders"
   ]
  },
  {
   "cell_type": "markdown",
   "metadata": {},
   "source": [
    "There is a lot of information that you can extract simply by using this ticker. You can learn more [here.](https://pypi.org/project/yfinance/) You can play around with the different functions that come with Yahoo Finance and get familiar with the tools well."
   ]
  },
  {
   "cell_type": "markdown",
   "metadata": {},
   "source": [
    "## Historical Data\n",
    "Next, we want to extract historical data for this stock."
   ]
  },
  {
   "cell_type": "code",
   "execution_count": 6,
   "metadata": {},
   "outputs": [],
   "source": [
    "# Assign variables to start and end date\n",
    "start_date = '2020-01-01'\n",
    "end_date = '2021-01-01'"
   ]
  },
  {
   "cell_type": "markdown",
   "metadata": {},
   "source": [
    "We will want to get all the historical stock data between these two dates."
   ]
  },
  {
   "cell_type": "code",
   "execution_count": 7,
   "metadata": {},
   "outputs": [],
   "source": [
    "hist = msft.history(start=start_date, end=end_date)"
   ]
  },
  {
   "cell_type": "code",
   "execution_count": 8,
   "metadata": {},
   "outputs": [
    {
     "data": {
      "text/plain": [
       "pandas.core.frame.DataFrame"
      ]
     },
     "execution_count": 8,
     "metadata": {},
     "output_type": "execute_result"
    }
   ],
   "source": [
    "type(hist)"
   ]
  },
  {
   "cell_type": "markdown",
   "metadata": {},
   "source": [
    "This outputs our data as a DataFrame, which is essentially a table in Python. We will be learning more about DataFrames and how to manipulate and transform them in the next tutorial."
   ]
  },
  {
   "cell_type": "code",
   "execution_count": 9,
   "metadata": {
    "scrolled": true
   },
   "outputs": [
    {
     "data": {
      "text/html": [
       "<div>\n",
       "<style scoped>\n",
       "    .dataframe tbody tr th:only-of-type {\n",
       "        vertical-align: middle;\n",
       "    }\n",
       "\n",
       "    .dataframe tbody tr th {\n",
       "        vertical-align: top;\n",
       "    }\n",
       "\n",
       "    .dataframe thead th {\n",
       "        text-align: right;\n",
       "    }\n",
       "</style>\n",
       "<table border=\"1\" class=\"dataframe\">\n",
       "  <thead>\n",
       "    <tr style=\"text-align: right;\">\n",
       "      <th></th>\n",
       "      <th>Open</th>\n",
       "      <th>High</th>\n",
       "      <th>Low</th>\n",
       "      <th>Close</th>\n",
       "      <th>Volume</th>\n",
       "      <th>Dividends</th>\n",
       "      <th>Stock Splits</th>\n",
       "    </tr>\n",
       "    <tr>\n",
       "      <th>Date</th>\n",
       "      <th></th>\n",
       "      <th></th>\n",
       "      <th></th>\n",
       "      <th></th>\n",
       "      <th></th>\n",
       "      <th></th>\n",
       "      <th></th>\n",
       "    </tr>\n",
       "  </thead>\n",
       "  <tbody>\n",
       "    <tr>\n",
       "      <th>2020-01-02</th>\n",
       "      <td>156.393425</td>\n",
       "      <td>158.314112</td>\n",
       "      <td>155.950192</td>\n",
       "      <td>158.205765</td>\n",
       "      <td>22622100</td>\n",
       "      <td>0.0</td>\n",
       "      <td>0</td>\n",
       "    </tr>\n",
       "    <tr>\n",
       "      <th>2020-01-03</th>\n",
       "      <td>155.940346</td>\n",
       "      <td>157.545836</td>\n",
       "      <td>155.684244</td>\n",
       "      <td>156.235825</td>\n",
       "      <td>21116200</td>\n",
       "      <td>0.0</td>\n",
       "      <td>0</td>\n",
       "    </tr>\n",
       "    <tr>\n",
       "      <th>2020-01-06</th>\n",
       "      <td>154.719007</td>\n",
       "      <td>156.708649</td>\n",
       "      <td>154.157567</td>\n",
       "      <td>156.639694</td>\n",
       "      <td>20813700</td>\n",
       "      <td>0.0</td>\n",
       "      <td>0</td>\n",
       "    </tr>\n",
       "    <tr>\n",
       "      <th>2020-01-07</th>\n",
       "      <td>156.925308</td>\n",
       "      <td>157.270038</td>\n",
       "      <td>154.955370</td>\n",
       "      <td>155.211456</td>\n",
       "      <td>21634100</td>\n",
       "      <td>0.0</td>\n",
       "      <td>0</td>\n",
       "    </tr>\n",
       "    <tr>\n",
       "      <th>2020-01-08</th>\n",
       "      <td>156.541163</td>\n",
       "      <td>158.383066</td>\n",
       "      <td>155.575897</td>\n",
       "      <td>157.683731</td>\n",
       "      <td>27746500</td>\n",
       "      <td>0.0</td>\n",
       "      <td>0</td>\n",
       "    </tr>\n",
       "  </tbody>\n",
       "</table>\n",
       "</div>"
      ],
      "text/plain": [
       "                  Open        High         Low       Close    Volume  \\\n",
       "Date                                                                   \n",
       "2020-01-02  156.393425  158.314112  155.950192  158.205765  22622100   \n",
       "2020-01-03  155.940346  157.545836  155.684244  156.235825  21116200   \n",
       "2020-01-06  154.719007  156.708649  154.157567  156.639694  20813700   \n",
       "2020-01-07  156.925308  157.270038  154.955370  155.211456  21634100   \n",
       "2020-01-08  156.541163  158.383066  155.575897  157.683731  27746500   \n",
       "\n",
       "            Dividends  Stock Splits  \n",
       "Date                                 \n",
       "2020-01-02        0.0             0  \n",
       "2020-01-03        0.0             0  \n",
       "2020-01-06        0.0             0  \n",
       "2020-01-07        0.0             0  \n",
       "2020-01-08        0.0             0  "
      ]
     },
     "execution_count": 9,
     "metadata": {},
     "output_type": "execute_result"
    }
   ],
   "source": [
    "# View the first 5 rows of your data \n",
    "hist.head()"
   ]
  },
  {
   "cell_type": "markdown",
   "metadata": {},
   "source": [
    "We can see that we have information such as the opening, high, low and closing price as well as the volume, dividends and stock splits on each day. We can also get our data in various intervals, such as monthly. \n",
    "\n",
    "The valid intervals are 1m,2m,5m,15m,30m,60m,90m,1h,1d,5d,1wk,1mo,3mo.\n",
    "\n",
    "\n",
    "Let's take a look at quarterly data."
   ]
  },
  {
   "cell_type": "code",
   "execution_count": 10,
   "metadata": {},
   "outputs": [],
   "source": [
    "quarter = msft.history(start=start_date, end=end_date, interval=\"3mo\")"
   ]
  },
  {
   "cell_type": "code",
   "execution_count": 11,
   "metadata": {
    "scrolled": true
   },
   "outputs": [
    {
     "data": {
      "text/html": [
       "<div>\n",
       "<style scoped>\n",
       "    .dataframe tbody tr th:only-of-type {\n",
       "        vertical-align: middle;\n",
       "    }\n",
       "\n",
       "    .dataframe tbody tr th {\n",
       "        vertical-align: top;\n",
       "    }\n",
       "\n",
       "    .dataframe thead th {\n",
       "        text-align: right;\n",
       "    }\n",
       "</style>\n",
       "<table border=\"1\" class=\"dataframe\">\n",
       "  <thead>\n",
       "    <tr style=\"text-align: right;\">\n",
       "      <th></th>\n",
       "      <th>Open</th>\n",
       "      <th>High</th>\n",
       "      <th>Low</th>\n",
       "      <th>Close</th>\n",
       "      <th>Volume</th>\n",
       "      <th>Dividends</th>\n",
       "      <th>Stock Splits</th>\n",
       "    </tr>\n",
       "    <tr>\n",
       "      <th>Date</th>\n",
       "      <th></th>\n",
       "      <th></th>\n",
       "      <th></th>\n",
       "      <th></th>\n",
       "      <th></th>\n",
       "      <th></th>\n",
       "      <th></th>\n",
       "    </tr>\n",
       "  </thead>\n",
       "  <tbody>\n",
       "    <tr>\n",
       "      <th>2020-01-01</th>\n",
       "      <td>156.393417</td>\n",
       "      <td>187.833634</td>\n",
       "      <td>130.528130</td>\n",
       "      <td>155.339508</td>\n",
       "      <td>3.058748e+09</td>\n",
       "      <td>0.00</td>\n",
       "      <td>0</td>\n",
       "    </tr>\n",
       "    <tr>\n",
       "      <th>2020-02-19</th>\n",
       "      <td>NaN</td>\n",
       "      <td>NaN</td>\n",
       "      <td>NaN</td>\n",
       "      <td>NaN</td>\n",
       "      <td>NaN</td>\n",
       "      <td>0.51</td>\n",
       "      <td>0</td>\n",
       "    </tr>\n",
       "    <tr>\n",
       "      <th>2020-04-01</th>\n",
       "      <td>151.111928</td>\n",
       "      <td>201.877628</td>\n",
       "      <td>148.504507</td>\n",
       "      <td>200.998611</td>\n",
       "      <td>2.438515e+09</td>\n",
       "      <td>0.00</td>\n",
       "      <td>0</td>\n",
       "    </tr>\n",
       "    <tr>\n",
       "      <th>2020-07-01</th>\n",
       "      <td>201.191936</td>\n",
       "      <td>230.626930</td>\n",
       "      <td>194.368010</td>\n",
       "      <td>208.312988</td>\n",
       "      <td>2.230791e+09</td>\n",
       "      <td>0.00</td>\n",
       "      <td>0</td>\n",
       "    </tr>\n",
       "    <tr>\n",
       "      <th>2020-10-01</th>\n",
       "      <td>211.953828</td>\n",
       "      <td>226.478547</td>\n",
       "      <td>198.183620</td>\n",
       "      <td>220.819565</td>\n",
       "      <td>1.799823e+09</td>\n",
       "      <td>0.00</td>\n",
       "      <td>0</td>\n",
       "    </tr>\n",
       "    <tr>\n",
       "      <th>2020-11-18</th>\n",
       "      <td>NaN</td>\n",
       "      <td>NaN</td>\n",
       "      <td>NaN</td>\n",
       "      <td>NaN</td>\n",
       "      <td>NaN</td>\n",
       "      <td>0.56</td>\n",
       "      <td>0</td>\n",
       "    </tr>\n",
       "    <tr>\n",
       "      <th>2021-01-01</th>\n",
       "      <td>221.507180</td>\n",
       "      <td>241.524749</td>\n",
       "      <td>210.965859</td>\n",
       "      <td>230.893845</td>\n",
       "      <td>6.480764e+08</td>\n",
       "      <td>0.00</td>\n",
       "      <td>0</td>\n",
       "    </tr>\n",
       "  </tbody>\n",
       "</table>\n",
       "</div>"
      ],
      "text/plain": [
       "                  Open        High         Low       Close        Volume  \\\n",
       "Date                                                                       \n",
       "2020-01-01  156.393417  187.833634  130.528130  155.339508  3.058748e+09   \n",
       "2020-02-19         NaN         NaN         NaN         NaN           NaN   \n",
       "2020-04-01  151.111928  201.877628  148.504507  200.998611  2.438515e+09   \n",
       "2020-07-01  201.191936  230.626930  194.368010  208.312988  2.230791e+09   \n",
       "2020-10-01  211.953828  226.478547  198.183620  220.819565  1.799823e+09   \n",
       "2020-11-18         NaN         NaN         NaN         NaN           NaN   \n",
       "2021-01-01  221.507180  241.524749  210.965859  230.893845  6.480764e+08   \n",
       "\n",
       "            Dividends  Stock Splits  \n",
       "Date                                 \n",
       "2020-01-01       0.00             0  \n",
       "2020-02-19       0.51             0  \n",
       "2020-04-01       0.00             0  \n",
       "2020-07-01       0.00             0  \n",
       "2020-10-01       0.00             0  \n",
       "2020-11-18       0.56             0  \n",
       "2021-01-01       0.00             0  "
      ]
     },
     "execution_count": 11,
     "metadata": {},
     "output_type": "execute_result"
    }
   ],
   "source": [
    "quarter"
   ]
  },
  {
   "cell_type": "markdown",
   "metadata": {},
   "source": [
    "As you can see, we have the full data for only January, April, July and October of this year. This is our quarterly data. We still have the rows in between since dividends were issued during those dates, but this would give us quarterly data.\n",
    "\n",
    "**Take-home Exercise:** Play around with the different intervals. What differences do you notice between the dates available during different intervals? "
   ]
  },
  {
   "cell_type": "markdown",
   "metadata": {},
   "source": [
    "## Questions? \n",
    "\n",
    "This should give you an introduction to how to extract your data from Yahoo Finance for the upcoming assignments. You are able to use any of the code from this tutorial and the functions from this library that we have covered here in your assignments."
   ]
  }
 ],
 "metadata": {
  "kernelspec": {
   "display_name": "venv",
   "language": "python",
   "name": "venv"
  },
  "language_info": {
   "codemirror_mode": {
    "name": "ipython",
    "version": 3
   },
   "file_extension": ".py",
   "mimetype": "text/x-python",
   "name": "python",
   "nbconvert_exporter": "python",
   "pygments_lexer": "ipython3",
   "version": "3.8.8"
  }
 },
 "nbformat": 4,
 "nbformat_minor": 2
}
