{
 "cells": [
  {
   "cell_type": "code",
   "execution_count": 1,
   "id": "b52c1864",
   "metadata": {
    "scrolled": false
   },
   "outputs": [],
   "source": [
    "from IPython.display import display, Math, Latex\n",
    "\n",
    "import pandas as pd\n",
    "import numpy as np\n",
    "import yfinance as yf\n",
    "import matplotlib.pyplot as plt"
   ]
  },
  {
   "cell_type": "code",
   "execution_count": 10,
   "id": "43f9432d",
   "metadata": {
    "scrolled": false
   },
   "outputs": [
    {
     "data": {
      "text/html": [
       "<div>\n",
       "<style scoped>\n",
       "    .dataframe tbody tr th:only-of-type {\n",
       "        vertical-align: middle;\n",
       "    }\n",
       "\n",
       "    .dataframe tbody tr th {\n",
       "        vertical-align: top;\n",
       "    }\n",
       "\n",
       "    .dataframe thead th {\n",
       "        text-align: right;\n",
       "    }\n",
       "</style>\n",
       "<table border=\"1\" class=\"dataframe\">\n",
       "  <thead>\n",
       "    <tr style=\"text-align: right;\">\n",
       "      <th></th>\n",
       "      <th>type</th>\n",
       "      <th>b_price</th>\n",
       "      <th>b_amount</th>\n",
       "      <th>type.1</th>\n",
       "      <th>s_price</th>\n",
       "      <th>s_amount</th>\n",
       "    </tr>\n",
       "  </thead>\n",
       "  <tbody>\n",
       "    <tr>\n",
       "      <td>0</td>\n",
       "      <td>b</td>\n",
       "      <td>9590.0</td>\n",
       "      <td>0.749</td>\n",
       "      <td>s</td>\n",
       "      <td>9599.0</td>\n",
       "      <td>2.000</td>\n",
       "    </tr>\n",
       "    <tr>\n",
       "      <td>1</td>\n",
       "      <td>b</td>\n",
       "      <td>9588.0</td>\n",
       "      <td>0.172</td>\n",
       "      <td>s</td>\n",
       "      <td>9599.1</td>\n",
       "      <td>0.040</td>\n",
       "    </tr>\n",
       "    <tr>\n",
       "      <td>2</td>\n",
       "      <td>b</td>\n",
       "      <td>9587.2</td>\n",
       "      <td>0.307</td>\n",
       "      <td>s</td>\n",
       "      <td>9599.8</td>\n",
       "      <td>1.815</td>\n",
       "    </tr>\n",
       "    <tr>\n",
       "      <td>3</td>\n",
       "      <td>b</td>\n",
       "      <td>9587.1</td>\n",
       "      <td>0.108</td>\n",
       "      <td>s</td>\n",
       "      <td>9599.9</td>\n",
       "      <td>0.681</td>\n",
       "    </tr>\n",
       "    <tr>\n",
       "      <td>4</td>\n",
       "      <td>b</td>\n",
       "      <td>9587.0</td>\n",
       "      <td>0.040</td>\n",
       "      <td>s</td>\n",
       "      <td>9600.0</td>\n",
       "      <td>0.053</td>\n",
       "    </tr>\n",
       "    <tr>\n",
       "      <td>...</td>\n",
       "      <td>...</td>\n",
       "      <td>...</td>\n",
       "      <td>...</td>\n",
       "      <td>...</td>\n",
       "      <td>...</td>\n",
       "      <td>...</td>\n",
       "    </tr>\n",
       "    <tr>\n",
       "      <td>495</td>\n",
       "      <td>b</td>\n",
       "      <td>9040.0</td>\n",
       "      <td>5.001</td>\n",
       "      <td>NaN</td>\n",
       "      <td>NaN</td>\n",
       "      <td>NaN</td>\n",
       "    </tr>\n",
       "    <tr>\n",
       "      <td>496</td>\n",
       "      <td>b</td>\n",
       "      <td>9039.6</td>\n",
       "      <td>0.151</td>\n",
       "      <td>NaN</td>\n",
       "      <td>NaN</td>\n",
       "      <td>NaN</td>\n",
       "    </tr>\n",
       "    <tr>\n",
       "      <td>497</td>\n",
       "      <td>b</td>\n",
       "      <td>9038.3</td>\n",
       "      <td>0.100</td>\n",
       "      <td>NaN</td>\n",
       "      <td>NaN</td>\n",
       "      <td>NaN</td>\n",
       "    </tr>\n",
       "    <tr>\n",
       "      <td>498</td>\n",
       "      <td>b</td>\n",
       "      <td>9038.0</td>\n",
       "      <td>0.028</td>\n",
       "      <td>NaN</td>\n",
       "      <td>NaN</td>\n",
       "      <td>NaN</td>\n",
       "    </tr>\n",
       "    <tr>\n",
       "      <td>499</td>\n",
       "      <td>b</td>\n",
       "      <td>9037.0</td>\n",
       "      <td>0.750</td>\n",
       "      <td>NaN</td>\n",
       "      <td>NaN</td>\n",
       "      <td>NaN</td>\n",
       "    </tr>\n",
       "  </tbody>\n",
       "</table>\n",
       "<p>500 rows × 6 columns</p>\n",
       "</div>"
      ],
      "text/plain": [
       "    type  b_price  b_amount type.1  s_price  s_amount\n",
       "0      b   9590.0     0.749      s   9599.0     2.000\n",
       "1      b   9588.0     0.172      s   9599.1     0.040\n",
       "2      b   9587.2     0.307      s   9599.8     1.815\n",
       "3      b   9587.1     0.108      s   9599.9     0.681\n",
       "4      b   9587.0     0.040      s   9600.0     0.053\n",
       "..   ...      ...       ...    ...      ...       ...\n",
       "495    b   9040.0     5.001    NaN      NaN       NaN\n",
       "496    b   9039.6     0.151    NaN      NaN       NaN\n",
       "497    b   9038.3     0.100    NaN      NaN       NaN\n",
       "498    b   9038.0     0.028    NaN      NaN       NaN\n",
       "499    b   9037.0     0.750    NaN      NaN       NaN\n",
       "\n",
       "[500 rows x 6 columns]"
      ]
     },
     "execution_count": 10,
     "metadata": {},
     "output_type": "execute_result"
    }
   ],
   "source": [
    "#read in limit order book data\n",
    "cross_listed = INSERT CODE"
   ]
  },
  {
   "cell_type": "code",
   "execution_count": 3,
   "id": "52aef85e",
   "metadata": {},
   "outputs": [
    {
     "data": {
      "text/html": [
       "<div>\n",
       "<style scoped>\n",
       "    .dataframe tbody tr th:only-of-type {\n",
       "        vertical-align: middle;\n",
       "    }\n",
       "\n",
       "    .dataframe tbody tr th {\n",
       "        vertical-align: top;\n",
       "    }\n",
       "\n",
       "    .dataframe thead th {\n",
       "        text-align: right;\n",
       "    }\n",
       "</style>\n",
       "<table border=\"1\" class=\"dataframe\">\n",
       "  <thead>\n",
       "    <tr style=\"text-align: right;\">\n",
       "      <th></th>\n",
       "      <th>s_price</th>\n",
       "      <th>s_amount</th>\n",
       "    </tr>\n",
       "  </thead>\n",
       "  <tbody>\n",
       "    <tr>\n",
       "      <td>0</td>\n",
       "      <td>9599.0</td>\n",
       "      <td>2.000</td>\n",
       "    </tr>\n",
       "    <tr>\n",
       "      <td>1</td>\n",
       "      <td>9599.1</td>\n",
       "      <td>0.040</td>\n",
       "    </tr>\n",
       "    <tr>\n",
       "      <td>2</td>\n",
       "      <td>9599.8</td>\n",
       "      <td>1.815</td>\n",
       "    </tr>\n",
       "    <tr>\n",
       "      <td>3</td>\n",
       "      <td>9599.9</td>\n",
       "      <td>0.681</td>\n",
       "    </tr>\n",
       "    <tr>\n",
       "      <td>4</td>\n",
       "      <td>9600.0</td>\n",
       "      <td>0.053</td>\n",
       "    </tr>\n",
       "  </tbody>\n",
       "</table>\n",
       "</div>"
      ],
      "text/plain": [
       "   s_price  s_amount\n",
       "0   9599.0     2.000\n",
       "1   9599.1     0.040\n",
       "2   9599.8     1.815\n",
       "3   9599.9     0.681\n",
       "4   9600.0     0.053"
      ]
     },
     "execution_count": 3,
     "metadata": {},
     "output_type": "execute_result"
    }
   ],
   "source": [
    "#define a variable called \"sell\" which has the sell prices and sell amounts\n",
    "sell = cross_listed[['s_price','s_amount']]\n",
    "sell.head()"
   ]
  },
  {
   "cell_type": "code",
   "execution_count": 4,
   "id": "46fa3cf1",
   "metadata": {},
   "outputs": [
    {
     "data": {
      "text/html": [
       "<div>\n",
       "<style scoped>\n",
       "    .dataframe tbody tr th:only-of-type {\n",
       "        vertical-align: middle;\n",
       "    }\n",
       "\n",
       "    .dataframe tbody tr th {\n",
       "        vertical-align: top;\n",
       "    }\n",
       "\n",
       "    .dataframe thead th {\n",
       "        text-align: right;\n",
       "    }\n",
       "</style>\n",
       "<table border=\"1\" class=\"dataframe\">\n",
       "  <thead>\n",
       "    <tr style=\"text-align: right;\">\n",
       "      <th></th>\n",
       "      <th>b_price</th>\n",
       "      <th>b_amount</th>\n",
       "    </tr>\n",
       "  </thead>\n",
       "  <tbody>\n",
       "    <tr>\n",
       "      <td>0</td>\n",
       "      <td>9590.0</td>\n",
       "      <td>0.749</td>\n",
       "    </tr>\n",
       "    <tr>\n",
       "      <td>1</td>\n",
       "      <td>9588.0</td>\n",
       "      <td>0.172</td>\n",
       "    </tr>\n",
       "    <tr>\n",
       "      <td>2</td>\n",
       "      <td>9587.2</td>\n",
       "      <td>0.307</td>\n",
       "    </tr>\n",
       "    <tr>\n",
       "      <td>3</td>\n",
       "      <td>9587.1</td>\n",
       "      <td>0.108</td>\n",
       "    </tr>\n",
       "    <tr>\n",
       "      <td>4</td>\n",
       "      <td>9587.0</td>\n",
       "      <td>0.040</td>\n",
       "    </tr>\n",
       "  </tbody>\n",
       "</table>\n",
       "</div>"
      ],
      "text/plain": [
       "   b_price  b_amount\n",
       "0   9590.0     0.749\n",
       "1   9588.0     0.172\n",
       "2   9587.2     0.307\n",
       "3   9587.1     0.108\n",
       "4   9587.0     0.040"
      ]
     },
     "execution_count": 4,
     "metadata": {},
     "output_type": "execute_result"
    }
   ],
   "source": [
    "#define a variable called \"buy\" which has the buy prices and amounts\n",
    "buy = INSERT CODE\n",
    "buy.head()"
   ]
  },
  {
   "cell_type": "code",
   "execution_count": 7,
   "id": "8e3fb8ac",
   "metadata": {},
   "outputs": [
    {
     "data": {
      "text/plain": [
       "Text(0, 0.5, 'Value (USD)')"
      ]
     },
     "execution_count": 7,
     "metadata": {},
     "output_type": "execute_result"
    },
    {
     "data": {
      "image/png": "[encoded data removed]",
      "text/plain": [
       "<Figure size 432x288 with 1 Axes>"
      ]
     },
     "metadata": {
      "needs_background": "light"
     },
     "output_type": "display_data"
    }
   ],
   "source": [
    "#plot your buy and sell prices on one graph\n",
    "plt.plot(sell.s_price, color='b', label='Sell orders')\n",
    "plt.plot(buy.b_price, color='r', label='buy orders')\n",
    "plt.legend(loc='best')\n",
    "plt.title('Limit Order Book Prices')\n",
    "plt.xlabel('Order Number')\n",
    "plt.ylabel('Value (USD)')"
   ]
  },
  {
   "cell_type": "code",
   "execution_count": 8,
   "id": "d230c8fd",
   "metadata": {},
   "outputs": [
    {
     "name": "stdout",
     "output_type": "stream",
     "text": [
      "bid: $ 9590.0\n",
      "ask: $ 9599.0\n",
      "bid-ask spread: $ 9.0\n"
     ]
    }
   ],
   "source": [
    "#Define a *bid* variable and and *ask*, which contain the CURRENT bid and ask in the data.\n",
    "#Print out the bid and the ask.  Calculate (and print) the bid-ask spread\n",
    "bid=INSERT CODE\n",
    "ask=INSERT CODE\n",
    "print(\"bid: $\",bid)\n",
    "print(\"ask: $\",ask)\n",
    "print(\"bid-ask spread: $\",INSERT CODE)"
   ]
  },
  {
   "cell_type": "code",
   "execution_count": 1,
   "id": "0d105922",
   "metadata": {},
   "outputs": [
    {
     "ename": "SyntaxError",
     "evalue": "invalid syntax (<ipython-input-1-bce04a041749>, line 14)",
     "output_type": "error",
     "traceback": [
      "\u001b[1;36m  File \u001b[1;32m\"<ipython-input-1-bce04a041749>\"\u001b[1;36m, line \u001b[1;32m14\u001b[0m\n\u001b[1;33m    shares=shares+sell.s_amount[INSERT VARIABLE]\u001b[0m\n\u001b[1;37m                                              ^\u001b[0m\n\u001b[1;31mSyntaxError\u001b[0m\u001b[1;31m:\u001b[0m invalid syntax\n"
     ]
    }
   ],
   "source": [
    "#Imagine you are a buyer who submits a market order for 130.1 bitcoins.  At what price will it transact?\n",
    "#Determine what the total cost for the purchase would be.  Finally, determine what the last transacted price would be.  Write the code in general so that you can change\n",
    "#the number of shares purchased and see what happens to the cost and last transacted price as you increase the number of bitcoins purchased\n",
    "#I provide some code to help you below, however there are many ways to do this - if you don't like my code\n",
    "#I encourage you to do this in whatever way seems natural to you.\n",
    "\n",
    "order_size=130.1\n",
    "shares=0\n",
    "count=0\n",
    "cost=0\n",
    "temp=0\n",
    "\n",
    "while shares < order_size:\n",
    "    shares=shares+sell.s_amount[INSERT VARIABLE]\n",
    "    #if after adding the next order, we exceed the total order size, then we need to only take some of the shares at that price\n",
    "    if shares>order_size:\n",
    "        temp=shares-order_size\n",
    "        shares=order_size\n",
    "        #print(temp);\n",
    "    #update the cost to reflect the new bitcoin purchased\n",
    "    cost+=sell.s_price[INSERT VARIABLE]*(INSERT CODE)\n",
    "    #print(cost)\n",
    "    count+=1\n",
    "print(\"total shares\", shares)\n",
    "print(\"Total Cost: $\",np.round_(cost, decimals=2))\n",
    "print(\"Average Price Paid: $\",np.round_(cost/order_size, decimals=2))\n",
    "print(\"Last Transaction Price: $\",np.round_(sell.s_price[count-1], decimals=2))"
   ]
  },
  {
   "cell_type": "code",
   "execution_count": null,
   "id": "e3f2f0a8",
   "metadata": {},
   "outputs": [],
   "source": []
  }
 ],
 "metadata": {
  "kernelspec": {
   "display_name": "Python 3",
   "language": "python",
   "name": "python3"
  },
  "language_info": {
   "codemirror_mode": {
    "name": "ipython",
    "version": 3
   },
   "file_extension": ".py",
   "mimetype": "text/x-python",
   "name": "python",
   "nbconvert_exporter": "python",
   "pygments_lexer": "ipython3",
   "version": "3.7.4"
  }
 },
 "nbformat": 4,
 "nbformat_minor": 5
}
