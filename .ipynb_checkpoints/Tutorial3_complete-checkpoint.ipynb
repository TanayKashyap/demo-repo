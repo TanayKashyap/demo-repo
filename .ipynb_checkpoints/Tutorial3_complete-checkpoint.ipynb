{
 "cells": [
  {
   "cell_type": "code",
   "execution_count": null,
   "metadata": {},
   "outputs": [],
   "source": [
    "import pandas as pd\n",
    "import numpy as np\n",
    "import matplotlib.pyplot as plt\n",
    "\n",
    "import yfinance as yf"
   ]
  },
  {
   "cell_type": "markdown",
   "metadata": {},
   "source": [
    "## More Yahoo Finance and Plotting"
   ]
  },
  {
   "cell_type": "code",
   "execution_count": null,
   "metadata": {},
   "outputs": [],
   "source": [
    "stock = yf.Ticker('RY.TO')"
   ]
  },
  {
   "cell_type": "code",
   "execution_count": null,
   "metadata": {
    "scrolled": true
   },
   "outputs": [],
   "source": [
    "# View other information about the stock\n",
    "stock.info"
   ]
  },
  {
   "cell_type": "markdown",
   "metadata": {},
   "source": [
    "All this data is stored in this `.info` as a dictionary. Some important info that we can extract from these tickers is:"
   ]
  },
  {
   "cell_type": "code",
   "execution_count": null,
   "metadata": {},
   "outputs": [],
   "source": [
    "# Industry\n",
    "stock.info['industry']"
   ]
  },
  {
   "cell_type": "code",
   "execution_count": null,
   "metadata": {},
   "outputs": [],
   "source": [
    "# Sector\n",
    "stock.info['sector']"
   ]
  },
  {
   "cell_type": "code",
   "execution_count": null,
   "metadata": {},
   "outputs": [],
   "source": [
    "# Name\n",
    "stock.info['longName']"
   ]
  },
  {
   "cell_type": "markdown",
   "metadata": {},
   "source": [
    "## Getting Historical Data"
   ]
  },
  {
   "cell_type": "code",
   "execution_count": null,
   "metadata": {
    "scrolled": true
   },
   "outputs": [],
   "source": [
    "# Get one year of stock data\n",
    "hist = stock.history(start='2020-01-01', end='2021-01-05', threads=False)"
   ]
  },
  {
   "cell_type": "markdown",
   "metadata": {},
   "source": [
    "Now what if we wanted to plot our data for the whole year but only have tickers for every six months? Let's do this with closing prices.\n",
    "\n",
    "Then we know that we would want the first available data that we have for:\n",
    "* Jan 2020\n",
    "* June 2020\n",
    "* Jan 2021"
   ]
  },
  {
   "cell_type": "code",
   "execution_count": null,
   "metadata": {},
   "outputs": [],
   "source": [
    "# Get close as a DataFrame\n",
    "close = pd.DataFrame(hist['Close'])\n",
    "\n",
    "close.reset_index(inplace=True)"
   ]
  },
  {
   "cell_type": "markdown",
   "metadata": {},
   "source": [
    "We want to collect our locations of these tickers as Dates since our x-axis is Dates."
   ]
  },
  {
   "cell_type": "code",
   "execution_count": null,
   "metadata": {},
   "outputs": [],
   "source": [
    "# First location\n",
    "close.head()"
   ]
  },
  {
   "cell_type": "code",
   "execution_count": null,
   "metadata": {},
   "outputs": [],
   "source": [
    "# Last location\n",
    "close.tail()"
   ]
  },
  {
   "cell_type": "code",
   "execution_count": null,
   "metadata": {},
   "outputs": [],
   "source": [
    "# Middle location\n",
    "close[(close.Date <= '2020-06-03') & (close.Date >= '2020-05-31')]"
   ]
  },
  {
   "cell_type": "markdown",
   "metadata": {},
   "source": [
    "Our tickers would be ['2020-01-02', '2020-06-01', '2021-01-04']"
   ]
  },
  {
   "cell_type": "code",
   "execution_count": null,
   "metadata": {
    "scrolled": true
   },
   "outputs": [],
   "source": [
    "plt.plot(close.Date, close.Close)\n",
    "\n",
    "plt.xticks(['2020-01-02', '2020-06-01', '2021-01-04'])\n",
    "plt.title('RBC Closing Prices')\n",
    "plt.xlabel('Date')\n",
    "plt.ylabel('Closing Price (CAD)')\n",
    "\n",
    "plt.show()"
   ]
  },
  {
   "cell_type": "markdown",
   "metadata": {},
   "source": [
    "Next, we'll go through how to plot subplots. In our case, we'll plot the Open and Close prices for the year of data we collected."
   ]
  },
  {
   "cell_type": "code",
   "execution_count": null,
   "metadata": {},
   "outputs": [],
   "source": [
    "# Specify number of rows and columns (2,1) and define axes for each plot\n",
    "fig, ((ax1), (ax2)) = plt.subplots(2,1)\n",
    "fig.set_size_inches(20, 15)\n",
    "\n",
    "\n",
    "# Overall title\n",
    "fig.suptitle('RBC Open and Close Prices')\n",
    "\n",
    "# Subplot 1 \n",
    "ax1.plot(hist.index, hist.Open)\n",
    "\n",
    "# Subplot 2\n",
    "ax2.plot(hist.index, hist.Close)\n",
    "\n",
    "ax1.set_ylabel(\"Stock Price (CAD)\")\n",
    "ax2.set_ylabel(\"Stock Price (CAD)\")\n",
    "\n",
    "plt.show()"
   ]
  },
  {
   "cell_type": "markdown",
   "metadata": {},
   "source": [
    "**NOTE**: If you wanted to set the tickers for a subplot, you need to call the specific axes, i.e. `ax1` and use `.set_xticks(indices_list)` instead of `plt.xticks`. This only works for one plot."
   ]
  },
  {
   "cell_type": "markdown",
   "metadata": {},
   "source": [
    "Now, let's say we are interested in seeing the differences between the Open and Close prices. We can visualize this distribution using a scatter plot. We want to see how this distribution varies around the horizontal y=0 line so we plot a blue scatter plot and a red horizontal line."
   ]
  },
  {
   "cell_type": "code",
   "execution_count": null,
   "metadata": {},
   "outputs": [],
   "source": [
    "# Plot the data\n",
    "plt.scatter(hist.index, hist.Close - hist.Open, color='b')\n",
    "plt.axhline(y=0, color='r', linestyle = '-')\n",
    "\n",
    "# Set axis and title\n",
    "plt.title('RBC Difference in Closing and Open Price')\n",
    "plt.xlabel('Date')\n",
    "plt.ylabel('Difference (CAD)')\n",
    "plt.show()"
   ]
  },
  {
   "cell_type": "markdown",
   "metadata": {},
   "source": [
    "We can see here that our prices are usually around the 0-2; however in some cases there is a lot of variation between our closing and open prices."
   ]
  },
  {
   "cell_type": "markdown",
   "metadata": {},
   "source": [
    "## More DataFrames\n",
    "\n",
    "You can also read in data as a DataFrame, for example from a csv file. "
   ]
  },
  {
   "cell_type": "code",
   "execution_count": null,
   "metadata": {
    "scrolled": true
   },
   "outputs": [],
   "source": [
    "# read in daily activity csv\n",
    "activity = pd.read_csv('daily_activity.csv', index_col='Date')"
   ]
  },
  {
   "cell_type": "code",
   "execution_count": null,
   "metadata": {},
   "outputs": [],
   "source": [
    "# View our data\n",
    "activity.head()"
   ]
  },
  {
   "cell_type": "code",
   "execution_count": null,
   "metadata": {},
   "outputs": [],
   "source": [
    "# Columns\n",
    "activity.columns"
   ]
  },
  {
   "cell_type": "code",
   "execution_count": null,
   "metadata": {},
   "outputs": [],
   "source": [
    "# Reset the index \n",
    "activity.reset_index(inplace=True)"
   ]
  },
  {
   "cell_type": "code",
   "execution_count": null,
   "metadata": {},
   "outputs": [],
   "source": [
    "activity.head()"
   ]
  },
  {
   "cell_type": "markdown",
   "metadata": {},
   "source": [
    "As you can see, it creates a new column in the DataFrame for what used to be the index."
   ]
  },
  {
   "cell_type": "code",
   "execution_count": null,
   "metadata": {},
   "outputs": [],
   "source": [
    "# Set the index to be date\n",
    "activity.set_index('Date', inplace=True)"
   ]
  },
  {
   "cell_type": "markdown",
   "metadata": {},
   "source": [
    "The `inplace=True` parameter updates your current DataFrame. Without that parameter, the default is False. "
   ]
  },
  {
   "cell_type": "code",
   "execution_count": null,
   "metadata": {},
   "outputs": [],
   "source": [
    "# View only land activity\n",
    "activity[['Walk', 'Running']]"
   ]
  },
  {
   "cell_type": "markdown",
   "metadata": {},
   "source": [
    "Now, let's say that we are a workout enthusiast and we also have the time to work out in the gym but that isn't stored in this dataframe. We read in another dataframe called `gym.csv` that stores the time we spend in the gym."
   ]
  },
  {
   "cell_type": "code",
   "execution_count": null,
   "metadata": {},
   "outputs": [],
   "source": [
    "gym = pd.read_csv('gym.csv')"
   ]
  },
  {
   "cell_type": "code",
   "execution_count": null,
   "metadata": {},
   "outputs": [],
   "source": [
    "# View our data\n",
    "gym.head()"
   ]
  },
  {
   "cell_type": "code",
   "execution_count": null,
   "metadata": {},
   "outputs": [],
   "source": [
    "# Select columns\n",
    "gym = gym[['Date', 'Time']]"
   ]
  },
  {
   "cell_type": "markdown",
   "metadata": {},
   "source": [
    "Now we want all of our data in one table, so we need to join the two tables together. To do this, we need to have the same indices so that we can do an inner join on the index, which basically means that we are matching our data on the dates that both tables have. Hence, if any date does not appear in one of the tables, it would not show up in our inner join. \n",
    "\n",
    "To do this, we need to set our index to Date so that it matches the activity table. Then we use `pd.concat([df1, df2])` to join where we specify the parameter `join=inner` to show it is in an inner join and `axis=1` to show we are adding another column into our new table."
   ]
  },
  {
   "cell_type": "code",
   "execution_count": null,
   "metadata": {},
   "outputs": [],
   "source": [
    "# Set the index\n",
    "gym.set_index('Date', inplace=True)"
   ]
  },
  {
   "cell_type": "code",
   "execution_count": null,
   "metadata": {},
   "outputs": [],
   "source": [
    "# Join the tables\n",
    "daily_activity = pd.concat([activity, gym], join='inner', axis=1)\n",
    "\n",
    "daily_activity.head()"
   ]
  },
  {
   "cell_type": "code",
   "execution_count": null,
   "metadata": {},
   "outputs": [],
   "source": [
    "len(daily_activity), len(activity), len(gym)"
   ]
  },
  {
   "cell_type": "markdown",
   "metadata": {},
   "source": [
    "We can see that we have a new column called Time from our Gym table and that we had all the same dates between the two tables so they matched up. Next, `Time` makes sense as a column when it is just a gym table, but with this new table, we want to rename our columns so that it is `Gym` instead. "
   ]
  },
  {
   "cell_type": "code",
   "execution_count": null,
   "metadata": {},
   "outputs": [],
   "source": [
    "# Rename column\n",
    "daily_activity.columns = ['Walk', 'Swim', 'Run', 'Gym']"
   ]
  },
  {
   "cell_type": "markdown",
   "metadata": {},
   "source": [
    "You simply pass in a list of names to rename the columns by setting `df.columns`. In this case, your list of column names needs to match the number of columns in your table.\n",
    "\n",
    "Now, lastly, I want to create a new DataFrame that summarizes the average number of minutes I walked, swam, ran and went to the gym for this time period. We will do this by creating a dictionary with our new values."
   ]
  },
  {
   "cell_type": "code",
   "execution_count": null,
   "metadata": {},
   "outputs": [],
   "source": [
    "activity_dic = {'Walk': np.mean(daily_activity.Walk),\n",
    "                'Run': np.mean(daily_activity.Run),\n",
    "                'Swim': np.mean(daily_activity.Swim),\n",
    "                'Gym': np.mean(daily_activity.Gym)\n",
    "               }"
   ]
  },
  {
   "cell_type": "code",
   "execution_count": null,
   "metadata": {},
   "outputs": [],
   "source": [
    "activity_stats= pd.DataFrame(activity_dic, index=[0])"
   ]
  },
  {
   "cell_type": "markdown",
   "metadata": {},
   "source": [
    "Now what if you wanted to have the activity as a row and the mean as the column? You would transpose your matrix in order to do that."
   ]
  },
  {
   "cell_type": "code",
   "execution_count": null,
   "metadata": {},
   "outputs": [],
   "source": [
    "activity_stats = activity_stats.T\n",
    "\n",
    "activity_stats"
   ]
  },
  {
   "cell_type": "code",
   "execution_count": null,
   "metadata": {},
   "outputs": [],
   "source": [
    "# Rename column\n",
    "activity_stats.columns = ['mean']"
   ]
  },
  {
   "cell_type": "markdown",
   "metadata": {},
   "source": [
    "This was mainly to show you that sometimes you need to transpose your data when creating a DataFrame from a dictionary and that basically means swapping your rows and columns. \n",
    "\n",
    "A faster way to get the means for each activity type would be to do the following:"
   ]
  },
  {
   "cell_type": "code",
   "execution_count": null,
   "metadata": {},
   "outputs": [],
   "source": [
    "pd.DataFrame(daily_activity.describe().loc['mean'])"
   ]
  },
  {
   "cell_type": "markdown",
   "metadata": {},
   "source": [
    "### Data Types\n",
    "\n",
    "Lastly, we want to look into how to convert datatypes, specifically dates."
   ]
  },
  {
   "cell_type": "code",
   "execution_count": null,
   "metadata": {},
   "outputs": [],
   "source": [
    "hist.reset_index().dtypes"
   ]
  },
  {
   "cell_type": "code",
   "execution_count": null,
   "metadata": {},
   "outputs": [],
   "source": [
    "daily_activity.reset_index().dtypes"
   ]
  },
  {
   "cell_type": "markdown",
   "metadata": {},
   "source": [
    "You'll see that for our dates with Yahoo Finance we have datetimes; however, with our data from the csv, we have dates as an object. What if we wanted to convert our dates to datetime? \n",
    "\n",
    "This can be done very easily with DataFrames!"
   ]
  },
  {
   "cell_type": "code",
   "execution_count": null,
   "metadata": {},
   "outputs": [],
   "source": [
    "daily_activity.index = pd.to_datetime(daily_activity.index)"
   ]
  },
  {
   "cell_type": "code",
   "execution_count": null,
   "metadata": {},
   "outputs": [],
   "source": [
    "daily_activity.reset_index().dtypes"
   ]
  },
  {
   "cell_type": "markdown",
   "metadata": {},
   "source": [
    "All done! "
   ]
  },
  {
   "cell_type": "markdown",
   "metadata": {},
   "source": [
    "Remember to check data types when you are trying to join data together using either concat or inner joins. For example, when we joined our daily activity and gym data together, we were able to since both Date indices were an `object`; however, if one was an `object` while the other was a `datetime`, we would have to convert it.\n",
    "\n",
    "For graphing purposes, datetime is more ideal."
   ]
  },
  {
   "cell_type": "markdown",
   "metadata": {},
   "source": [
    "# Exercises\n",
    "\n",
    "Exercise 1: Graph a 2x1 subplot with open and close prices. Display the quarterly dates for the x-axis.\n",
    "\n",
    "Exercise 2: Calculate the median time spent on each activity and add it to the `activity_stats` DataFrame as a new column.\n",
    "\n",
    "Exercise 3: Calculate the average total exercise time that you spend during this month. Which date did you spend the most time exercising? What about the least time exercising? \n",
    "\n",
    "Exercise 4: What is your monthly average time spent exercising?"
   ]
  },
  {
   "cell_type": "code",
   "execution_count": null,
   "metadata": {},
   "outputs": [],
   "source": [
    "# Exercise 1 \n",
    "fig, ((ax1), (ax2)) = plt.subplots(2,1)\n",
    "fig.set_size_inches(20, 15)\n",
    "\n",
    "# Overall title\n",
    "fig.suptitle('RBC Open and Close Prices')\n",
    "\n",
    "# Subplot 1 \n",
    "ax1.plot(hist.index, hist.Open)\n",
    "ax1.set_xticks(['2020-01-02', '2020-04-01', '2020-07-04', '2020-10-01', '2021-01-04'])\n",
    "\n",
    "# Subplot 2\n",
    "ax2.plot(hist.index, hist.Close)\n",
    "ax2.set_xticks(['2020-01-02', '2020-04-01', '2020-07-04', '2020-10-01', '2021-01-04'])\n",
    "\n",
    "\n",
    "ax1.set_ylabel(\"Stock Price (CAD)\")\n",
    "ax2.set_ylabel(\"Stock Price (CAD)\")\n",
    "\n",
    "plt.show()"
   ]
  },
  {
   "cell_type": "code",
   "execution_count": null,
   "metadata": {},
   "outputs": [],
   "source": [
    "# Exercise 2 \n",
    "activity_stats['median'] = daily_activity.describe().loc['50%']\n",
    "\n",
    "activity_stats.head()"
   ]
  },
  {
   "cell_type": "code",
   "execution_count": null,
   "metadata": {},
   "outputs": [],
   "source": [
    "# Exercise 3\n",
    "daily_activity['total'] = daily_activity.sum(axis=1)\n",
    "\n",
    "daily_activity.head()"
   ]
  },
  {
   "cell_type": "code",
   "execution_count": null,
   "metadata": {},
   "outputs": [],
   "source": [
    "# Max time spent exercising\n",
    "daily_activity[daily_activity.total == daily_activity.total.max()]"
   ]
  },
  {
   "cell_type": "code",
   "execution_count": null,
   "metadata": {},
   "outputs": [],
   "source": [
    "# Min time spent exercising\n",
    "daily_activity[daily_activity.total == daily_activity.total.min()]"
   ]
  },
  {
   "cell_type": "code",
   "execution_count": null,
   "metadata": {},
   "outputs": [],
   "source": [
    "# Exercise 4\n",
    "daily_activity['month'] = daily_activity.index.month\n",
    "\n",
    "daily_activity.groupby('month').mean()['total']"
   ]
  }
 ],
 "metadata": {
  "kernelspec": {
   "display_name": "venv",
   "language": "python",
   "name": "venv"
  },
  "language_info": {
   "codemirror_mode": {
    "name": "ipython",
    "version": 3
   },
   "file_extension": ".py",
   "mimetype": "text/x-python",
   "name": "python",
   "nbconvert_exporter": "python",
   "pygments_lexer": "ipython3",
   "version": "3.9.5"
  }
 },
 "nbformat": 4,
 "nbformat_minor": 2
}
