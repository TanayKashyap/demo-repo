{
 "cells": [
  {
   "cell_type": "code",
   "execution_count": 1,
   "id": "5afd39d8",
   "metadata": {},
   "outputs": [],
   "source": [
    "import yfinance as yf\n",
    "import pandas as pd\n",
    "import numpy as np\n",
    "import matplotlib.pyplot as plt\n",
    "from IPython.display import display, Math, Latex\n",
    "from heapq import nsmallest"
   ]
  },
  {
   "cell_type": "code",
   "execution_count": 2,
   "id": "604d47e5",
   "metadata": {
    "scrolled": true
   },
   "outputs": [],
   "source": [
    "df = pd.read_csv(\"Tickers (1).csv\")"
   ]
  },
  {
   "cell_type": "code",
   "execution_count": 3,
   "id": "92f57fc5",
   "metadata": {},
   "outputs": [],
   "source": [
    "first_ticker = df.columns[0]"
   ]
  },
  {
   "cell_type": "code",
   "execution_count": 4,
   "id": "0a8c6a51",
   "metadata": {},
   "outputs": [],
   "source": [
    "df.rename(columns = {first_ticker:\"ticker\"},inplace=True)"
   ]
  },
  {
   "cell_type": "code",
   "execution_count": 5,
   "id": "4c44c171",
   "metadata": {},
   "outputs": [
    {
     "data": {
      "text/plain": [
       "str"
      ]
     },
     "execution_count": 5,
     "metadata": {},
     "output_type": "execute_result"
    }
   ],
   "source": [
    "type (first_ticker)"
   ]
  },
  {
   "cell_type": "code",
   "execution_count": 6,
   "id": "19eec5ab",
   "metadata": {},
   "outputs": [],
   "source": [
    "ab = yf.Ticker(first_ticker)\n",
    "if ab.info[\"regularMarketPrice\"] != None:\n",
    "    df = df.append({\"ticker\":first_ticker},ignore_index=True)"
   ]
  },
  {
   "cell_type": "code",
   "execution_count": 7,
   "id": "e93ac580",
   "metadata": {},
   "outputs": [
    {
     "data": {
      "text/html": [
       "<div>\n",
       "<style scoped>\n",
       "    .dataframe tbody tr th:only-of-type {\n",
       "        vertical-align: middle;\n",
       "    }\n",
       "\n",
       "    .dataframe tbody tr th {\n",
       "        vertical-align: top;\n",
       "    }\n",
       "\n",
       "    .dataframe thead th {\n",
       "        text-align: right;\n",
       "    }\n",
       "</style>\n",
       "<table border=\"1\" class=\"dataframe\">\n",
       "  <thead>\n",
       "    <tr style=\"text-align: right;\">\n",
       "      <th></th>\n",
       "      <th>ticker</th>\n",
       "    </tr>\n",
       "  </thead>\n",
       "  <tbody>\n",
       "    <tr>\n",
       "      <th>0</th>\n",
       "      <td>ABBV</td>\n",
       "    </tr>\n",
       "    <tr>\n",
       "      <th>1</th>\n",
       "      <td>ABT</td>\n",
       "    </tr>\n",
       "    <tr>\n",
       "      <th>2</th>\n",
       "      <td>ACN</td>\n",
       "    </tr>\n",
       "    <tr>\n",
       "      <th>3</th>\n",
       "      <td>AGN</td>\n",
       "    </tr>\n",
       "    <tr>\n",
       "      <th>4</th>\n",
       "      <td>AIG</td>\n",
       "    </tr>\n",
       "    <tr>\n",
       "      <th>...</th>\n",
       "      <td>...</td>\n",
       "    </tr>\n",
       "    <tr>\n",
       "      <th>57</th>\n",
       "      <td>UNH</td>\n",
       "    </tr>\n",
       "    <tr>\n",
       "      <th>58</th>\n",
       "      <td>UNP</td>\n",
       "    </tr>\n",
       "    <tr>\n",
       "      <th>59</th>\n",
       "      <td>UPS</td>\n",
       "    </tr>\n",
       "    <tr>\n",
       "      <th>60</th>\n",
       "      <td>USB</td>\n",
       "    </tr>\n",
       "    <tr>\n",
       "      <th>61</th>\n",
       "      <td>AAPL</td>\n",
       "    </tr>\n",
       "  </tbody>\n",
       "</table>\n",
       "<p>62 rows × 1 columns</p>\n",
       "</div>"
      ],
      "text/plain": [
       "   ticker\n",
       "0    ABBV\n",
       "1     ABT\n",
       "2     ACN\n",
       "3     AGN\n",
       "4     AIG\n",
       "..    ...\n",
       "57    UNH\n",
       "58    UNP\n",
       "59    UPS\n",
       "60    USB\n",
       "61   AAPL\n",
       "\n",
       "[62 rows x 1 columns]"
      ]
     },
     "execution_count": 7,
     "metadata": {},
     "output_type": "execute_result"
    }
   ],
   "source": [
    "df"
   ]
  },
  {
   "cell_type": "code",
   "execution_count": 8,
   "id": "cb3fe329",
   "metadata": {},
   "outputs": [
    {
     "name": "stdout",
     "output_type": "stream",
     "text": [
      "b\n"
     ]
    }
   ],
   "source": [
    "if yf.Ticker(\"AAPL\").history(start=\"2017-01-01\").Close.index.size == 0:\n",
    "    print(\"a\")\n",
    "else:\n",
    "    print(\"b\")"
   ]
  },
  {
   "cell_type": "code",
   "execution_count": 9,
   "id": "1946bef2",
   "metadata": {},
   "outputs": [
    {
     "name": "stdout",
     "output_type": "stream",
     "text": [
      "- AGN: No data found, symbol may be delisted\n",
      "- CELG: No data found, symbol may be delisted\n",
      "- PCLN: No data found for this date range, symbol may be delisted\n",
      "- RTN: No data found, symbol may be delisted\n"
     ]
    }
   ],
   "source": [
    "# (np.mean(yf.Ticker(\"AGN\").history(start=start,end=end).Volume)\n",
    "start_date = \"2017-01-01\"\n",
    "dict2 = {}\n",
    "for i in df.ticker:\n",
    "    y = yf.Ticker(i)\n",
    "    inf = y.info\n",
    "    a = y.history(start=start_date)\n",
    "    if a.Close.index.size > 0:\n",
    "        dict2[i] = {\"info\":inf,\"price\":a}"
   ]
  },
  {
   "cell_type": "code",
   "execution_count": 10,
   "id": "36fb5e58",
   "metadata": {},
   "outputs": [],
   "source": [
    "#Calculate std of each stock from dictionary\n",
    "def std_stock(stock):\n",
    "    close=stock['price']['Close']\n",
    "    std=close.pct_change().std()\n",
    "    return std"
   ]
  },
  {
   "cell_type": "code",
   "execution_count": 11,
   "id": "c9f08e0e",
   "metadata": {},
   "outputs": [
    {
     "data": {
      "text/plain": [
       "{'ABBV': 0.017717925415255756,\n",
       " 'ABT': 0.015713013649060182,\n",
       " 'ACN': 0.01563240883180479,\n",
       " 'AIG': 0.02413666050801701,\n",
       " 'AMZN': 0.018585958426060208,\n",
       " 'AXP': 0.021663953303399854,\n",
       " 'BA': 0.029683202600937632,\n",
       " 'BAC': 0.021360285606387346,\n",
       " 'BIIB': 0.0298395690311574,\n",
       " 'BK': 0.018523016794199428,\n",
       " 'BLK': 0.018167969221015726,\n",
       " 'BMY': 0.015601409789481997,\n",
       " 'C': 0.023212918521187235,\n",
       " 'CAT': 0.019752054562131378,\n",
       " 'CL': 0.013089138385164201,\n",
       " 'CMCSA': 0.01682408622835479,\n",
       " 'COF': 0.02497859117147931,\n",
       " 'COP': 0.02644218447590906,\n",
       " 'COST': 0.013423949426899348,\n",
       " 'CSCO': 0.017208425825767284,\n",
       " 'CVS': 0.01784763589468645,\n",
       " 'GM': 0.02394197319554047,\n",
       " 'GOOG': 0.017065628845393064,\n",
       " 'JPM': 0.019043168940765017,\n",
       " 'KMI': 0.019880625766169745,\n",
       " 'KO': 0.012659740985522807,\n",
       " 'LLY': 0.01760394466909082,\n",
       " 'LMT': 0.01571244517888993,\n",
       " 'MO': 0.01607254705309426,\n",
       " 'MON': 0.0046734991055527655,\n",
       " 'MRK': 0.014170101475025992,\n",
       " 'MS': 0.021365883170827618,\n",
       " 'MSFT': 0.017339614357619503,\n",
       " 'NEE': 0.015067435763025099,\n",
       " 'NKE': 0.01844080473148081,\n",
       " 'ORCL': 0.01687188980954974,\n",
       " 'OXY': 0.03703350794209614,\n",
       " 'PEP': 0.013214915018648857,\n",
       " 'PFE': 0.014605477885668912,\n",
       " 'PG': 0.01271765898460278,\n",
       " 'PM': 0.016524909234232367,\n",
       " 'PYPL': 0.02253026315909341,\n",
       " 'QCOM': 0.023931269178868435,\n",
       " 'SHOP.TO': 0.03244003286438444,\n",
       " 'SBUX': 0.017395349419794263,\n",
       " 'SLB': 0.02803086830169762,\n",
       " 'SO': 0.01568604531436342,\n",
       " 'SPG': 0.029112718252870963,\n",
       " 'T': 0.014783508961647982,\n",
       " 'TD.TO': 0.013529981791445078,\n",
       " 'TGT': 0.01951809142953799,\n",
       " 'TWX': 0.008082434398613966,\n",
       " 'TXN': 0.0189490195333489,\n",
       " 'UNH': 0.018026543204003095,\n",
       " 'UNP': 0.017344728576988128,\n",
       " 'UPS': 0.017387203159548507,\n",
       " 'USB': 0.019856263973051413,\n",
       " 'AAPL': 0.019183377197081727}"
      ]
     },
     "execution_count": 11,
     "metadata": {},
     "output_type": "execute_result"
    }
   ],
   "source": [
    "dict3={}\n",
    "for i,j in dict2.items():\n",
    "    dict3[i]= std_stock(j)\n",
    "    \n",
    "dict3"
   ]
  },
  {
   "cell_type": "code",
   "execution_count": 55,
   "id": "d159330d",
   "metadata": {},
   "outputs": [],
   "source": [
    "# # Num of stocks \n",
    "# select_stock=20\n",
    "# least_volatility=[]\n",
    "# def pick_least(dict10):\n",
    "#     global select_stock\n",
    "#     temp=min(dict10.items(), key=lambda x: x[1])\n",
    "# #     temp=min(dict10,key=dict10.get)\n",
    "#     if select_stock >= 0:\n",
    "#              least_volatility.append(temp)\n",
    "#              select_stock-=1\n",
    "#              pick_least(dict10.pop(temp[0]))\n",
    "#     else:\n",
    "#              return least_volatility    "
   ]
  },
  {
   "cell_type": "code",
   "execution_count": 13,
   "id": "ed57853d",
   "metadata": {},
   "outputs": [
    {
     "data": {
      "text/plain": [
       "['MON',\n",
       " 'TWX',\n",
       " 'KO',\n",
       " 'PG',\n",
       " 'CL',\n",
       " 'PEP',\n",
       " 'COST',\n",
       " 'TD.TO',\n",
       " 'MRK',\n",
       " 'PFE',\n",
       " 'T',\n",
       " 'NEE',\n",
       " 'BMY',\n",
       " 'ACN',\n",
       " 'SO',\n",
       " 'LMT',\n",
       " 'ABT',\n",
       " 'MO',\n",
       " 'PM',\n",
       " 'CMCSA']"
      ]
     },
     "execution_count": 13,
     "metadata": {},
     "output_type": "execute_result"
    }
   ],
   "source": [
    "# Initialize K\n",
    "K = 20\n",
    "\n",
    "# Smallest K values in Dictionary\n",
    "# Using nsmallest\n",
    "res = nsmallest(K, dict3, key = dict3.get)\n",
    "\n",
    "res"
   ]
  },
  {
   "cell_type": "code",
   "execution_count": 11,
   "id": "1b1eb4d2",
   "metadata": {},
   "outputs": [],
   "source": [
    "# start=\"2021-07-02\"\n",
    "# end=\"2021-10-22\"\n",
    "# start_date = \"2021-11-01\"\n",
    "# valid_tickers = []\n",
    "# list1=[]\n",
    "# for i in df.ticker:\n",
    "#     try:\n",
    "#         a = yf.Ticker(i)\n",
    "#         c = a.info\n",
    "#         b = np.mean(a.history(start=start,end=end).Volume)\n",
    "# #         b = a.history(start=start_date).Close.pct_change().std()\n",
    "# #         pd.isna(b) == False\n",
    "#         if  c[\"currency\"] == \"USD\" and  b > 10000:\n",
    "# #             list1.append(b)\n",
    "#             valid_tickers.append(i)\n",
    "#     except:\n",
    "#         pass"
   ]
  },
  {
   "cell_type": "code",
   "execution_count": 12,
   "id": "660f6f76",
   "metadata": {},
   "outputs": [
    {
     "ename": "NameError",
     "evalue": "name 'start' is not defined",
     "output_type": "error",
     "traceback": [
      "\u001b[1;31m---------------------------------------------------------------------------\u001b[0m",
      "\u001b[1;31mNameError\u001b[0m                                 Traceback (most recent call last)",
      "\u001b[1;32m<ipython-input-12-5b35d856e418>\u001b[0m in \u001b[0;36m<module>\u001b[1;34m\u001b[0m\n\u001b[1;32m----> 1\u001b[1;33m \u001b[0mnp\u001b[0m\u001b[1;33m.\u001b[0m\u001b[0mmean\u001b[0m\u001b[1;33m(\u001b[0m\u001b[0myf\u001b[0m\u001b[1;33m.\u001b[0m\u001b[0mTicker\u001b[0m\u001b[1;33m(\u001b[0m\u001b[1;34m\"AGN\"\u001b[0m\u001b[1;33m)\u001b[0m\u001b[1;33m.\u001b[0m\u001b[0mhistory\u001b[0m\u001b[1;33m(\u001b[0m\u001b[0mstart\u001b[0m\u001b[1;33m=\u001b[0m\u001b[0mstart\u001b[0m\u001b[1;33m,\u001b[0m\u001b[0mend\u001b[0m\u001b[1;33m=\u001b[0m\u001b[0mend\u001b[0m\u001b[1;33m)\u001b[0m\u001b[1;33m.\u001b[0m\u001b[0mVolume\u001b[0m\u001b[1;33m)\u001b[0m\u001b[1;33m\u001b[0m\u001b[1;33m\u001b[0m\u001b[0m\n\u001b[0m",
      "\u001b[1;31mNameError\u001b[0m: name 'start' is not defined"
     ]
    }
   ],
   "source": [
    "np.mean(yf.Ticker(\"AGN\").history(start=start,end=end).Volume)"
   ]
  },
  {
   "cell_type": "code",
   "execution_count": null,
   "id": "7aa55f25",
   "metadata": {
    "scrolled": true
   },
   "outputs": [],
   "source": [
    "valid_tickers"
   ]
  },
  {
   "cell_type": "code",
   "execution_count": null,
   "id": "78318a95",
   "metadata": {
    "scrolled": true
   },
   "outputs": [],
   "source": [
    "list1"
   ]
  },
  {
   "cell_type": "code",
   "execution_count": null,
   "id": "34c9878d",
   "metadata": {},
   "outputs": [],
   "source": [
    "valid_df = pd.DataFrame({\"tickers\":valid_tickers})"
   ]
  },
  {
   "cell_type": "code",
   "execution_count": null,
   "id": "3cfe1b55",
   "metadata": {},
   "outputs": [],
   "source": [
    "valid_df"
   ]
  }
 ],
 "metadata": {
  "kernelspec": {
   "display_name": "venv",
   "language": "python",
   "name": "venv"
  },
  "language_info": {
   "codemirror_mode": {
    "name": "ipython",
    "version": 3
   },
   "file_extension": ".py",
   "mimetype": "text/x-python",
   "name": "python",
   "nbconvert_exporter": "python",
   "pygments_lexer": "ipython3",
   "version": "3.8.8"
  }
 },
 "nbformat": 4,
 "nbformat_minor": 5
}
